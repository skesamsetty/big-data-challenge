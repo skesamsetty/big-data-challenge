{
  "cells": [
    {
      "cell_type": "code",
      "execution_count": 25,
      "metadata": {
        "colab": {
          "base_uri": "https://localhost:8080/"
        },
        "id": "yviBjsBrAWxA",
        "outputId": "5660513e-365e-4236-a2e2-f87ca3f5cb18"
      },
      "outputs": [
        {
          "output_type": "stream",
          "name": "stdout",
          "text": [
            "\r0% [Working]\r            \rGet:1 http://security.ubuntu.com/ubuntu bionic-security InRelease [88.7 kB]\n",
            "Hit:2 https://cloud.r-project.org/bin/linux/ubuntu bionic-cran40/ InRelease\n",
            "Hit:3 http://ppa.launchpad.net/c2d4u.team/c2d4u4.0+/ubuntu bionic InRelease\n",
            "Hit:4 http://archive.ubuntu.com/ubuntu bionic InRelease\n",
            "Get:5 http://archive.ubuntu.com/ubuntu bionic-updates InRelease [88.7 kB]\n",
            "Hit:6 http://ppa.launchpad.net/cran/libgit2/ubuntu bionic InRelease\n",
            "Hit:7 http://ppa.launchpad.net/deadsnakes/ppa/ubuntu bionic InRelease\n",
            "Get:8 http://archive.ubuntu.com/ubuntu bionic-backports InRelease [74.6 kB]\n",
            "Hit:9 http://ppa.launchpad.net/graphics-drivers/ppa/ubuntu bionic InRelease\n",
            "Ign:10 https://developer.download.nvidia.com/compute/cuda/repos/ubuntu1804/x86_64  InRelease\n",
            "Ign:11 https://developer.download.nvidia.com/compute/machine-learning/repos/ubuntu1804/x86_64  InRelease\n",
            "Hit:12 https://developer.download.nvidia.com/compute/cuda/repos/ubuntu1804/x86_64  Release\n",
            "Hit:13 https://developer.download.nvidia.com/compute/machine-learning/repos/ubuntu1804/x86_64  Release\n",
            "Fetched 252 kB in 3s (90.2 kB/s)\n",
            "Reading package lists... Done\n"
          ]
        }
      ],
      "source": [
        "import os\n",
        "# Find the latest version of spark 3.0  from http://www.apache.org/dist/spark/ and enter as the spark version\n",
        "# For example:\n",
        "spark_version = 'spark-3.0.3'\n",
        "# spark_version = 'spark-3.<enter version>'\n",
        "os.environ['SPARK_VERSION']=spark_version\n",
        "\n",
        "# Install Spark and Java\n",
        "!apt-get update\n",
        "!apt-get install openjdk-8-jdk-headless -qq > /dev/null\n",
        "!wget -q http://www.apache.org/dist/spark/$SPARK_VERSION/$SPARK_VERSION-bin-hadoop2.7.tgz\n",
        "!tar xf $SPARK_VERSION-bin-hadoop2.7.tgz\n",
        "!pip install -q findspark\n",
        "\n",
        "# Set Environment Variables\n",
        "os.environ[\"JAVA_HOME\"] = \"/usr/lib/jvm/java-8-openjdk-amd64\"\n",
        "os.environ[\"SPARK_HOME\"] = f\"/content/{spark_version}-bin-hadoop2.7\"\n",
        "\n",
        "# Start a SparkSession\n",
        "import findspark\n",
        "findspark.init()"
      ]
    },
    {
      "cell_type": "code",
      "execution_count": 26,
      "metadata": {
        "colab": {
          "base_uri": "https://localhost:8080/"
        },
        "id": "0gjybIyyAsyS",
        "outputId": "7e17019e-cfb3-4c72-eda5-08b9ae789e5a"
      },
      "outputs": [
        {
          "output_type": "stream",
          "name": "stdout",
          "text": [
            "--2021-12-21 10:26:58--  https://jdbc.postgresql.org/download/postgresql-42.2.9.jar\n",
            "Resolving jdbc.postgresql.org (jdbc.postgresql.org)... 72.32.157.228, 2001:4800:3e1:1::228\n",
            "Connecting to jdbc.postgresql.org (jdbc.postgresql.org)|72.32.157.228|:443... connected.\n",
            "HTTP request sent, awaiting response... 200 OK\n",
            "Length: 914037 (893K) [application/java-archive]\n",
            "Saving to: ‘postgresql-42.2.9.jar.1’\n",
            "\n",
            "postgresql-42.2.9.j 100%[===================>] 892.61K  --.-KB/s    in 0.1s    \n",
            "\n",
            "2021-12-21 10:26:59 (6.02 MB/s) - ‘postgresql-42.2.9.jar.1’ saved [914037/914037]\n",
            "\n"
          ]
        }
      ],
      "source": [
        "!wget https://jdbc.postgresql.org/download/postgresql-42.2.9.jar"
      ]
    },
    {
      "cell_type": "code",
      "execution_count": 27,
      "metadata": {
        "id": "DVoEj3GcAtWQ"
      },
      "outputs": [],
      "source": [
        "# Start Spark session\n",
        "from pyspark.sql import SparkSession\n",
        "spark = SparkSession.builder.appName(\"BigData_Amazon_Reviews\").config(\"spark.driver.extraClassPath\",\"/content/postgresql-42.2.9.jar\").getOrCreate()"
      ]
    },
    {
      "cell_type": "code",
      "execution_count": 28,
      "metadata": {
        "colab": {
          "base_uri": "https://localhost:8080/"
        },
        "id": "nB7VNxhSAwzy",
        "outputId": "828ea2ba-aa3f-4f88-d99b-361f5dc220a9"
      },
      "outputs": [
        {
          "output_type": "stream",
          "name": "stdout",
          "text": [
            "+-----------+-----------+--------------+----------+--------------+----------------------------------------------------------------------------+----------------------+-----------+-------------+-----------+----+-----------------+--------------------------------------------------------+-----------------------------------------------------------------------------------------------------------------------------------------------------------------------------------------------------------------------------------------------------------------------------------+-----------+\n",
            "|marketplace|customer_id|review_id     |product_id|product_parent|product_title                                                               |product_category      |star_rating|helpful_votes|total_votes|vine|verified_purchase|review_headline                                         |review_body                                                                                                                                                                                                                                                                        |review_date|\n",
            "+-----------+-----------+--------------+----------+--------------+----------------------------------------------------------------------------+----------------------+-----------+-------------+-----------+----+-----------------+--------------------------------------------------------+-----------------------------------------------------------------------------------------------------------------------------------------------------------------------------------------------------------------------------------------------------------------------------------+-----------+\n",
            "|US         |10293599   |R14LVB34Z2Z53I|B000YMOQZY|262935067     |Knockin' On Heaven's Door                                                   |Digital_Music_Purchase|5          |0            |0          |N   |Y                |favorites                                               |Great  rendition. Great  song                                                                                                                                                                                                                                                      |2015-08-31 |\n",
            "|US         |6087195    |R2M0R9CWPC82LT|B00ISAEC80|452318038     |Flawless                                                                    |Digital_Music_Purchase|5          |0            |0          |N   |Y                |Five Stars                                              |A good music to listen.                                                                                                                                                                                                                                                            |2015-08-31 |\n",
            "|US         |33717063   |RQNQI2R3BM52A |B00VBB6AVU|675969129     |Scandal of Grace                                                            |Digital_Music_Purchase|4          |0            |0          |N   |Y                |Good                                                    |Not as good as the original but I needed to hear the parts and they were more easily heard in this one.                                                                                                                                                                            |2015-08-31 |\n",
            "|US         |14948020   |RTUIX1135HUAB |B008A5POJO|282925893     |I Surrender (Live)                                                          |Digital_Music_Purchase|5          |0            |0          |N   |Y                |Wonderful lyrics! Makes you feel like praying           |Time to worship and surrender with this song.  Wonderful lyrics! Makes you feel like praying.                                                                                                                                                                                      |2015-08-31 |\n",
            "|US         |21694522   |RE3QSAT8TL010 |B014CW2RN4|109077793     |We Are Young (Jersey Club)                                                  |Digital_Music_Purchase|4          |0            |0          |N   |Y                |Hot remix but took short                                |So this should be longer....but love this song:)                                                                                                                                                                                                                                   |2015-08-31 |\n",
            "|US         |14948020   |R14TN65IY0NUOD|B00DRA3EOY|959245080     |Lord, I Live                                                                |Digital_Music_Purchase|5          |0            |0          |N   |Y                |Five Stars                                              |Clint Brown is an awesome song writer and singer.  I recommend all of his work. Comes from the heart!                                                                                                                                                                              |2015-08-31 |\n",
            "|US         |20031966   |R3LIF8MCNH1ODF|B009G3U0PW|762436916     |I'll Never Be Free                                                          |Digital_Music_Purchase|5          |0            |0          |N   |Y                |\"I'll never be free\" is five stars like most of her work|LaVerne Butler is one of the most underrated jazz singers of our time...&#34;I'll never be free&#34; is five stars like most of her work..just wish she played live in the U.S. more..                                                                                             |2015-08-31 |\n",
            "|US         |12223745   |R33X0DGA4PPQ3L|B013XBYQOS|137980344     |All of the Stars                                                            |Digital_Music_Purchase|5          |3            |3          |N   |N                |long awaited treat!                                     |For some reason I often do not catch the lyrics. However getting the lyrics did me no good. Finally I asked a friend to explain. The sound is as expected. Not my kind of music still I enjoyed it. I buy anything and everything this singer does. and I am just now finding out ?|2015-08-31 |\n",
            "|US         |30231876   |R2DJJP7DQRT1ZW|B003L5H25W|165995375     |Exile On Main Street (Deluxe Edition)                                       |Digital_Music_Purchase|5          |0            |1          |N   |Y                |Five Stars                                              |The Stones at their best.                                                                                                                                                                                                                                                          |2015-08-31 |\n",
            "|US         |51714365   |R2A8XDXW5XOT4H|B00136NVH4|227508666     |Bat Out Of Hell                                                             |Digital_Music_Purchase|5          |0            |0          |N   |Y                |Transcends Time.                                        |Simply the best.                                                                                                                                                                                                                                                                   |2015-08-31 |\n",
            "|US         |37216001   |R3MJK3L7ER61TT|B0030AKPQ6|164096943     |Stronger Than Her Love                                                      |Digital_Music_Purchase|5          |0            |0          |N   |N                |I Love The Flirtations!                                 |A very early hit from a very underrated group that is still performing today.<br /><br />I discovered this group by chance around a month ago and I can't get enough of them.<br /><br />In my heart, they're worth 10 stars!                                                      |2015-08-31 |\n",
            "|US         |49207156   |R38Z7XMCVDR0R5|B014EQE0V0|714368268     |You Hold It All (Live)                                                      |Digital_Music_Purchase|5          |1            |1          |N   |Y                |Five Stars                                              |Inspired by this music, it is a testament to God's grace & power.                                                                                                                                                                                                                  |2015-08-31 |\n",
            "|US         |2472364    |R3FFESBQXPR7S6|B00USW4ZVU|50310906      |Pressure - Single                                                           |Digital_Music_Purchase|4          |0            |0          |N   |Y                |Talented new gospel artist.                             |Great new artist.  Very talented psalmist and writer.  The lyrics are so true to life!                                                                                                                                                                                             |2015-08-31 |\n",
            "|US         |22612468   |R3QO6Z942CKH34|B00ZZDJAX0|162295903     |What Are The Chances?                                                       |Digital_Music_Purchase|5          |1            |1          |N   |Y                |Awesome song                                            |Great song off the new album...probably one of my favorites so far!                                                                                                                                                                                                                |2015-08-31 |\n",
            "|US         |2254795    |R297119MDWMG9P|B014DIWONU|44838453      |Beauty Behind The Madness [Explicit]                                        |Digital_Music_Purchase|5          |0            |0          |N   |Y                |I love every song on the album                          |The weeknd is a musical genious. I love every song on the album... but the one with ed sheer an takes the cake!! Definitely purchase this. He deserves the support                                                                                                                 |2015-08-31 |\n",
            "|US         |12408664   |R7EJRSXIXMLIY |B005DPTQNE|454271984     |It's The Huck-A-Bucks                                                       |Digital_Music_Purchase|5          |0            |0          |N   |Y                |Five Stars                                              |Sounds great!                                                                                                                                                                                                                                                                      |2015-08-31 |\n",
            "|US         |36236254   |R2EBGPZD0B3TSV|B004LI9ATO|519024911     |Two Purple Shadows                                                          |Digital_Music_Purchase|5          |0            |0          |N   |N                |An oldie,,, but interesting song. Vale's ...            |An oldie , , , but interesting song.  Vale's rendition is definitive.                                                                                                                                                                                                              |2015-08-31 |\n",
            "|US         |10456004   |R229VSSFBNB90C|B00984QCM4|647155979     |Consolation                                                                 |Digital_Music_Purchase|5          |0            |0          |N   |Y                |Five Stars                                              |great                                                                                                                                                                                                                                                                              |2015-08-31 |\n",
            "|US         |16822806   |R12YCDYTDBJH3X|B00ZKCAK4O|346522639     |One Man Army [Explicit]                                                     |Digital_Music_Purchase|5          |0            |0          |N   |Y                |One Man Army! Download it                               |Real Sh*t Right Here!!!                                                                                                                                                                                                                                                            |2015-08-31 |\n",
            "|US         |30704319   |R3DEVUNGQ2Y98S|B014GWCW8K|260814213     |Without You (feat. Alexa Diane, David Lee Richeson & Dustin Swan) [Explicit]|Digital_Music_Purchase|5          |0            |0          |N   |Y                |Five Stars                                              |Press Forward!                                                                                                                                                                                                                                                                     |2015-08-31 |\n",
            "+-----------+-----------+--------------+----------+--------------+----------------------------------------------------------------------------+----------------------+-----------+-------------+-----------+----+-----------------+--------------------------------------------------------+-----------------------------------------------------------------------------------------------------------------------------------------------------------------------------------------------------------------------------------------------------------------------------------+-----------+\n",
            "only showing top 20 rows\n",
            "\n"
          ]
        }
      ],
      "source": [
        "# Read in data from S3 Buckets\n",
        "from pyspark import SparkFiles\n",
        "\n",
        "amazon_url = \"https://s3.amazonaws.com/amazon-reviews-pds/tsv/\"\n",
        "\n",
        "# Dataset 2 --> Digital Music\n",
        "dataset2 = \"amazon_reviews_us_Digital_Music_Purchase_v1_00.tsv.gz\"\n",
        "\n",
        "amazon_url2 = amazon_url + dataset2\n",
        "spark.sparkContext.addFile(amazon_url2)\n",
        "digital_music_df = spark.read.csv(SparkFiles.get(dataset2), inferSchema=True, sep=\"\\t\", header=True)\n",
        "\n",
        "# Show DataFrame\n",
        "digital_music_df.show(truncate=False)"
      ]
    },
    {
      "cell_type": "code",
      "execution_count": 29,
      "metadata": {
        "colab": {
          "base_uri": "https://localhost:8080/"
        },
        "id": "Mv7GNDQcBOYi",
        "outputId": "9a0fe950-8fbc-4416-f628-b1d466a2a6b9"
      },
      "outputs": [
        {
          "output_type": "stream",
          "name": "stdout",
          "text": [
            "Number of records in Digital music dataset: 1688884\n"
          ]
        }
      ],
      "source": [
        "# Count the number of records(rows) in the complete dataset.\n",
        "print('Number of records in Digital music dataset:', digital_music_df.count())"
      ]
    },
    {
      "cell_type": "code",
      "execution_count": 30,
      "metadata": {
        "colab": {
          "base_uri": "https://localhost:8080/"
        },
        "id": "7xN_6ovxBPHI",
        "outputId": "df5d45c1-3a72-40bc-ffd9-3411bf10225c"
      },
      "outputs": [
        {
          "output_type": "stream",
          "name": "stdout",
          "text": [
            "Number of rows in review_id_table:1688884\n",
            "+--------------+-----------+----------+--------------+-----------+\n",
            "|review_id     |customer_id|product_id|product_parent|review_date|\n",
            "+--------------+-----------+----------+--------------+-----------+\n",
            "|R100007TERQ36I|20227669   |B002NIWBBI|430027531     |2015-07-22 |\n",
            "|R10001PSW1P9MN|43072842   |B000TEVKF6|584630580     |2012-12-10 |\n",
            "|R10002GHQRXG9Q|33776241   |B00IOMX5L2|501710886     |2014-06-05 |\n",
            "|R10008N8QVGXBM|38876196   |B003Y3XPOI|738771843     |2011-08-11 |\n",
            "|R10009MVS1J3KE|16982254   |B00137II62|220306261     |2014-04-19 |\n",
            "|R10009VHWXV2UL|45142846   |B00LQ8IGVK|899670131     |2014-10-04 |\n",
            "|R1000AG0XB09WV|43615244   |B003DSCGDK|989074968     |2012-11-26 |\n",
            "|R1000ITBDIA86G|49162427   |B00RH8A288|774112745     |2015-01-02 |\n",
            "|R1000ITUAN6V4T|45694879   |B00137O9Q0|444308422     |2013-08-13 |\n",
            "|R1000NV6DPD7Y0|18017303   |B000QP4L5Y|258225989     |2014-09-13 |\n",
            "|R1000OD0LQNA9M|26278105   |B00GN594QW|739402550     |2013-11-13 |\n",
            "|R1000RLK5WR40Z|13935338   |B00NJT3A5Q|780153659     |2014-12-06 |\n",
            "|R10013Y9ZSIHO2|14899971   |B00YI4B79W|772368695     |2015-08-29 |\n",
            "|R10019I3IEINOD|31001234   |B001NSAHEC|219579312     |2014-04-04 |\n",
            "|R1001I8SBUHN9Y|20424605   |B007C7MXSQ|550290479     |2015-03-24 |\n",
            "|R1001IHCB3IX0E|44008662   |B009KGKF3M|751106299     |2013-05-19 |\n",
            "|R1001PDYRSFNB6|48992419   |B00DVIQ944|807174942     |2013-07-28 |\n",
            "|R1001WWWH5H8NS|52761634   |B00R8JTG5Q|73289187      |2015-02-26 |\n",
            "|R1001ZBZZU95S1|19976964   |B00693PTTY|117889123     |2014-11-16 |\n",
            "|R10023GUMQXEI0|24078401   |B00136S0F2|394367565     |2013-01-02 |\n",
            "+--------------+-----------+----------+--------------+-----------+\n",
            "only showing top 20 rows\n",
            "\n"
          ]
        }
      ],
      "source": [
        "# Transform the dataset to fit the table review_id_table\n",
        "from pyspark.sql.types import DateType\n",
        "\n",
        "review_id_df = digital_music_df.select('review_id', 'customer_id', 'product_id', 'product_parent', 'review_date')\n",
        "review_id_table = review_id_df.withColumn(\"review_date\", review_id_df[\"review_date\"].cast(DateType()))\n",
        "\n",
        "print('Number of rows in review_id_table:' + str(review_id_table.count()))\n",
        "review_id_table.orderBy('review_id').show(truncate=False)"
      ]
    },
    {
      "cell_type": "code",
      "execution_count": 31,
      "metadata": {
        "colab": {
          "base_uri": "https://localhost:8080/"
        },
        "id": "gA2nZqE8Bv6W",
        "outputId": "cf61a853-0834-474c-d644-0422c01aefe8"
      },
      "outputs": [
        {
          "output_type": "stream",
          "name": "stdout",
          "text": [
            "root\n",
            " |-- review_id: string (nullable = true)\n",
            " |-- customer_id: integer (nullable = true)\n",
            " |-- product_id: string (nullable = true)\n",
            " |-- product_parent: integer (nullable = true)\n",
            " |-- review_date: date (nullable = true)\n",
            "\n"
          ]
        }
      ],
      "source": [
        "# 'review_id_df' Column list and its data types\n",
        "review_id_table.printSchema()"
      ]
    },
    {
      "cell_type": "code",
      "execution_count": 32,
      "metadata": {
        "colab": {
          "base_uri": "https://localhost:8080/"
        },
        "id": "vdYCLalnBwrE",
        "outputId": "58952301-6728-4962-8bc0-82c08b41070a"
      },
      "outputs": [
        {
          "output_type": "stream",
          "name": "stdout",
          "text": [
            "Distinct count of products: 701548\n",
            "+----------+------------------------------------------------------------------------------------------------------------+\n",
            "|product_id|product_title                                                                                               |\n",
            "+----------+------------------------------------------------------------------------------------------------------------+\n",
            "|B000PI8FDQ|Lost Together                                                                                               |\n",
            "|B000PIAUEI|Homegrown                                                                                                   |\n",
            "|B000PICA8W|Try                                                                                                         |\n",
            "|B000PIDSQ0|Now and Forever                                                                                             |\n",
            "|B000PIG5R4|Haiku                                                                                                       |\n",
            "|B000PJ87FG|Til I Am Myself Again                                                                                       |\n",
            "|B000PJC5OA|Greatest Hits Vol. 1                                                                                        |\n",
            "|B000PJDLMA|Just Like A Vacation/2 CD Set                                                                               |\n",
            "|B000Q397IM|Masquerade: Waltz                                                                                           |\n",
            "|B000Q397XW|Lieder ohne Worte (Songs without Words), Book 6, Op. 67: No. 12 in F sharp minor, Op. 30/6, Gondolier's Song|\n",
            "|B000Q39B06|Histoire du Soldat (The Soldier's Tale) (arr. N. Mamangakis): The Soldier's March                           |\n",
            "|B000Q39C8M|Danse des Lutins                                                                                            |\n",
            "|B000Q39E5S|String Quartet No. 7 in F major, Op. 59, No. 1, \"Rasumovsky\": IV. Theme russe: Allegro                      |\n",
            "|B000Q3ASAS|Moments musicaux, Op. 16: Moment musical, Op. 16, No. 2                                                     |\n",
            "|B000Q3ATFM|Romeo and Juliet Suite No. 2, Op. 64ter: IV. Dance                                                          |\n",
            "|B000Q3B2LC|Minuet in G major, BWV Anh. 114: Minuet in G major, BWV Anh.114                                             |\n",
            "|B000Q3BBBI|Tango Etudes: Etude No. 2                                                                                   |\n",
            "|B000Q3BCDK|Songs of Grace and Songs of Glory                                                                           |\n",
            "|B000Q3BCMG|Espana                                                                                                      |\n",
            "|B000Q3BFL4|Street Musician (arr. Huichang Yan)                                                                         |\n",
            "+----------+------------------------------------------------------------------------------------------------------------+\n",
            "only showing top 20 rows\n",
            "\n"
          ]
        }
      ],
      "source": [
        "# Transform the dataset to fit the table 'products' and table count\n",
        "products_df = digital_music_df.select('product_id', 'product_title').distinct()\n",
        "print(\"Distinct count of products:\", products_df.count())\n",
        "products_df.orderBy('product_id').show(truncate=False)"
      ]
    },
    {
      "cell_type": "code",
      "execution_count": 33,
      "metadata": {
        "colab": {
          "base_uri": "https://localhost:8080/"
        },
        "id": "TA9rZ5mGCFsr",
        "outputId": "ef659015-214a-41df-e1b9-3f91f3cb1266"
      },
      "outputs": [
        {
          "output_type": "stream",
          "name": "stdout",
          "text": [
            "root\n",
            " |-- product_id: string (nullable = true)\n",
            " |-- product_title: string (nullable = true)\n",
            "\n"
          ]
        }
      ],
      "source": [
        "# 'products_df' Column list and its data types\n",
        "products_df.printSchema()"
      ]
    },
    {
      "cell_type": "code",
      "execution_count": 34,
      "metadata": {
        "colab": {
          "base_uri": "https://localhost:8080/"
        },
        "id": "NF0Y08EsCGwj",
        "outputId": "65b5f395-dde1-4938-d202-88d26c4d5b0d"
      },
      "outputs": [
        {
          "output_type": "stream",
          "name": "stdout",
          "text": [
            "Number of records in customers: 798864\n",
            "+-----------+--------------+\n",
            "|customer_id|customer_count|\n",
            "+-----------+--------------+\n",
            "|10128      |1             |\n",
            "|10145      |1             |\n",
            "|10156      |1             |\n",
            "|10167      |1             |\n",
            "|10348      |1             |\n",
            "|10362      |1             |\n",
            "|10408      |1             |\n",
            "|10468      |1             |\n",
            "|10604      |1             |\n",
            "|10637      |1             |\n",
            "|10675      |1             |\n",
            "|10862      |3             |\n",
            "|10889      |1             |\n",
            "|10933      |1             |\n",
            "|10935      |1             |\n",
            "|10970      |1             |\n",
            "|10981      |36            |\n",
            "|11033      |1             |\n",
            "|11121      |1             |\n",
            "|11125      |9             |\n",
            "+-----------+--------------+\n",
            "only showing top 20 rows\n",
            "\n"
          ]
        }
      ],
      "source": [
        "# Transform the dataset to fit the 'customer' table and print the count of records\n",
        "customersCounts = digital_music_df.select('customer_id').groupBy('customer_id').count()\n",
        "customers_df = customersCounts.withColumnRenamed('count', 'customer_count')\n",
        "\n",
        "print('Number of records in customers: '+ str(customers_df.count()))\n",
        "customers_df.orderBy('customer_id').show(truncate=False)"
      ]
    },
    {
      "cell_type": "code",
      "execution_count": 35,
      "metadata": {
        "colab": {
          "base_uri": "https://localhost:8080/"
        },
        "id": "1UWZMHWCCR_4",
        "outputId": "63d3bf52-bc10-4246-fbd3-07915c07e42b"
      },
      "outputs": [
        {
          "output_type": "stream",
          "name": "stdout",
          "text": [
            "root\n",
            " |-- customer_id: integer (nullable = true)\n",
            " |-- customer_count: long (nullable = false)\n",
            "\n"
          ]
        }
      ],
      "source": [
        "# 'customers' Table column list and its data types\n",
        "customers_df.printSchema()"
      ]
    },
    {
      "cell_type": "code",
      "execution_count": 36,
      "metadata": {
        "colab": {
          "base_uri": "https://localhost:8080/"
        },
        "id": "DuLew85BCSxO",
        "outputId": "41b02a3f-b9de-40a4-e040-a2bf73ecec86"
      },
      "outputs": [
        {
          "output_type": "stream",
          "name": "stdout",
          "text": [
            "Count of records in Vine dataset:1688884\n",
            "Count of records in Vine dataset:1688884\n",
            "+--------------+-----------+-------------+-----------+----+\n",
            "|review_id     |star_rating|helpful_votes|total_votes|vine|\n",
            "+--------------+-----------+-------------+-----------+----+\n",
            "|R100007TERQ36I|5          |0            |0          |N   |\n",
            "|R10001PSW1P9MN|5          |0            |0          |N   |\n",
            "|R10002GHQRXG9Q|5          |0            |0          |N   |\n",
            "|R10008N8QVGXBM|5          |0            |0          |N   |\n",
            "|R10009MVS1J3KE|5          |0            |0          |N   |\n",
            "|R10009VHWXV2UL|5          |0            |0          |N   |\n",
            "|R1000AG0XB09WV|5          |0            |0          |N   |\n",
            "|R1000ITBDIA86G|5          |0            |0          |N   |\n",
            "|R1000ITUAN6V4T|5          |0            |0          |N   |\n",
            "|R1000NV6DPD7Y0|4          |0            |0          |N   |\n",
            "|R1000OD0LQNA9M|5          |0            |0          |N   |\n",
            "|R1000RLK5WR40Z|5          |0            |0          |N   |\n",
            "|R10013Y9ZSIHO2|5          |0            |0          |N   |\n",
            "|R10019I3IEINOD|5          |0            |0          |N   |\n",
            "|R1001I8SBUHN9Y|1          |0            |2          |N   |\n",
            "|R1001IHCB3IX0E|5          |0            |0          |N   |\n",
            "|R1001PDYRSFNB6|5          |2            |2          |N   |\n",
            "|R1001WWWH5H8NS|5          |0            |0          |N   |\n",
            "|R1001ZBZZU95S1|5          |2            |2          |N   |\n",
            "|R10023GUMQXEI0|5          |0            |0          |N   |\n",
            "+--------------+-----------+-------------+-----------+----+\n",
            "only showing top 20 rows\n",
            "\n"
          ]
        }
      ],
      "source": [
        "# Transform the dataset to fit 'vine_table'\n",
        "vine_table= digital_music_df.select('review_id', 'star_rating', 'helpful_votes', 'total_votes', 'vine')\n",
        "print('Count of records in Vine dataset:' + str(vine_table.count()))\n",
        "print('Count of records in Vine dataset:' + str(vine_table.distinct().count()))\n",
        "vine_table.orderBy('review_id').show(truncate=False)"
      ]
    },
    {
      "cell_type": "code",
      "execution_count": 37,
      "metadata": {
        "colab": {
          "base_uri": "https://localhost:8080/"
        },
        "id": "JUbrYqNPCloL",
        "outputId": "12d06723-1a94-410e-a6d9-b0d248e0c30e"
      },
      "outputs": [
        {
          "output_type": "stream",
          "name": "stdout",
          "text": [
            "root\n",
            " |-- review_id: string (nullable = true)\n",
            " |-- star_rating: integer (nullable = true)\n",
            " |-- helpful_votes: integer (nullable = true)\n",
            " |-- total_votes: integer (nullable = true)\n",
            " |-- vine: string (nullable = true)\n",
            "\n"
          ]
        }
      ],
      "source": [
        "# 'vine_table' column list and its data types\n",
        "vine_table.printSchema()"
      ]
    },
    {
      "cell_type": "code",
      "execution_count": 38,
      "metadata": {
        "id": "l3lQ8ZOeCmoq"
      },
      "outputs": [],
      "source": [
        "#Create the Database properties\n",
        "\n",
        "mode = \"append\"\n",
        "db_url = \"jdbc:postgresql://<AWS RDS endpoint>:5432/postgres\"\n",
        "\n",
        "config = {\n",
        "    \"user\" : \"<username>\", \n",
        "    \"password\" : \"<password>\",\n",
        "    \"driver\" : \"org.postgresql.Driver\"\n",
        "}"
      ]
    },
    {
      "cell_type": "code",
      "execution_count": 39,
      "metadata": {
        "id": "rWs0dU-0CqNI"
      },
      "outputs": [],
      "source": [
        "# Load 'review_id_df' dataframe into 'review_id_table\n",
        "\n",
        "review_id_df.write.jdbc(url=db_url, table='review_id_table', mode=mode, properties=config)"
      ]
    },
    {
      "cell_type": "code",
      "execution_count": 40,
      "metadata": {
        "id": "tRr5oMNtDIdp"
      },
      "outputs": [],
      "source": [
        "# Load dataframe 'products_df' into RDS Table 'products'\n",
        "\n",
        "products_df.write.jdbc(url=db_url, table='products', mode=mode, properties=config)"
      ]
    },
    {
      "cell_type": "code",
      "execution_count": 41,
      "metadata": {
        "id": "VXH0ZhC0DJwS"
      },
      "outputs": [],
      "source": [
        "# Load dataframe 'customers_df' into RDS Table 'customers'\n",
        "\n",
        "customers_df.write.jdbc(url=db_url, table='customers', mode=mode, properties=config)"
      ]
    },
    {
      "cell_type": "code",
      "execution_count": 42,
      "metadata": {
        "id": "PYFFPuBkDL-k"
      },
      "outputs": [],
      "source": [
        "# Load dataframe 'vine_table' into RDS Table 'vine_table'\n",
        "\n",
        "vine_table.write.jdbc(url=db_url, table='vine_table', mode=mode, properties=config)"
      ]
    }
  ],
  "metadata": {
    "colab": {
      "name": "BigDataAmazonDigitalMusic.ipynb",
      "provenance": [],
      "collapsed_sections": []
    },
    "kernelspec": {
      "display_name": "Python 3",
      "name": "python3"
    },
    "language_info": {
      "name": "python"
    }
  },
  "nbformat": 4,
  "nbformat_minor": 0
}