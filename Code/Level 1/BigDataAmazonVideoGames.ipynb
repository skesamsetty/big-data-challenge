{
  "nbformat": 4,
  "nbformat_minor": 0,
  "metadata": {
    "colab": {
      "name": "BigDataAmazonVideoGames.ipynb",
      "provenance": [],
      "collapsed_sections": []
    },
    "kernelspec": {
      "name": "python3",
      "display_name": "Python 3"
    },
    "language_info": {
      "name": "python"
    }
  },
  "cells": [
    {
      "cell_type": "code",
      "execution_count": null,
      "metadata": {
        "colab": {
          "base_uri": "https://localhost:8080/"
        },
        "id": "EUrAMsfkCh_x",
        "outputId": "f79402f7-af3e-4f1b-ddf4-76b4e4e0763f"
      },
      "outputs": [
        {
          "output_type": "stream",
          "name": "stdout",
          "text": [
            "Get:1 http://security.ubuntu.com/ubuntu bionic-security InRelease [88.7 kB]\n",
            "Ign:2 https://developer.download.nvidia.com/compute/cuda/repos/ubuntu1804/x86_64  InRelease\n",
            "Get:3 http://ppa.launchpad.net/c2d4u.team/c2d4u4.0+/ubuntu bionic InRelease [15.9 kB]\n",
            "Hit:4 http://archive.ubuntu.com/ubuntu bionic InRelease\n",
            "Ign:5 https://developer.download.nvidia.com/compute/machine-learning/repos/ubuntu1804/x86_64  InRelease\n",
            "Get:6 https://developer.download.nvidia.com/compute/cuda/repos/ubuntu1804/x86_64  Release [696 B]\n",
            "Get:7 https://cloud.r-project.org/bin/linux/ubuntu bionic-cran40/ InRelease [3,626 B]\n",
            "Hit:8 https://developer.download.nvidia.com/compute/machine-learning/repos/ubuntu1804/x86_64  Release\n",
            "Get:9 https://developer.download.nvidia.com/compute/cuda/repos/ubuntu1804/x86_64  Release.gpg [836 B]\n",
            "Get:10 http://archive.ubuntu.com/ubuntu bionic-updates InRelease [88.7 kB]\n",
            "Hit:11 http://ppa.launchpad.net/cran/libgit2/ubuntu bionic InRelease\n",
            "Get:12 http://security.ubuntu.com/ubuntu bionic-security/restricted amd64 Packages [691 kB]\n",
            "Get:13 http://archive.ubuntu.com/ubuntu bionic-backports InRelease [74.6 kB]\n",
            "Get:14 http://ppa.launchpad.net/deadsnakes/ppa/ubuntu bionic InRelease [15.9 kB]\n",
            "Get:15 http://security.ubuntu.com/ubuntu bionic-security/universe amd64 Packages [1,452 kB]\n",
            "Get:16 http://security.ubuntu.com/ubuntu bionic-security/main amd64 Packages [2,461 kB]\n",
            "Hit:17 http://ppa.launchpad.net/graphics-drivers/ppa/ubuntu bionic InRelease\n",
            "Get:18 https://cloud.r-project.org/bin/linux/ubuntu bionic-cran40/ Packages [73.9 kB]\n",
            "Get:20 https://developer.download.nvidia.com/compute/cuda/repos/ubuntu1804/x86_64  Packages [833 kB]\n",
            "Get:21 http://ppa.launchpad.net/c2d4u.team/c2d4u4.0+/ubuntu bionic/main Sources [1,821 kB]\n",
            "Get:22 http://archive.ubuntu.com/ubuntu bionic-updates/universe amd64 Packages [2,230 kB]\n",
            "Get:23 http://ppa.launchpad.net/c2d4u.team/c2d4u4.0+/ubuntu bionic/main amd64 Packages [934 kB]\n",
            "Get:24 http://archive.ubuntu.com/ubuntu bionic-updates/main amd64 Packages [2,898 kB]\n",
            "Get:25 http://archive.ubuntu.com/ubuntu bionic-backports/main amd64 Packages [11.6 kB]\n",
            "Get:26 http://archive.ubuntu.com/ubuntu bionic-backports/universe amd64 Packages [12.6 kB]\n",
            "Get:27 http://ppa.launchpad.net/deadsnakes/ppa/ubuntu bionic/main amd64 Packages [45.3 kB]\n",
            "Fetched 13.8 MB in 4s (3,510 kB/s)\n",
            "Reading package lists... Done\n"
          ]
        }
      ],
      "source": [
        "import os\n",
        "# Find the latest version of spark 3.0  from http://www.apache.org/dist/spark/ and enter as the spark version\n",
        "# For example:\n",
        "spark_version = 'spark-3.0.3'\n",
        "# spark_version = 'spark-3.<enter version>'\n",
        "os.environ['SPARK_VERSION']=spark_version\n",
        "\n",
        "# Install Spark and Java\n",
        "!apt-get update\n",
        "!apt-get install openjdk-8-jdk-headless -qq > /dev/null\n",
        "!wget -q http://www.apache.org/dist/spark/$SPARK_VERSION/$SPARK_VERSION-bin-hadoop2.7.tgz\n",
        "!tar xf $SPARK_VERSION-bin-hadoop2.7.tgz\n",
        "!pip install -q findspark\n",
        "\n",
        "# Set Environment Variables\n",
        "os.environ[\"JAVA_HOME\"] = \"/usr/lib/jvm/java-8-openjdk-amd64\"\n",
        "os.environ[\"SPARK_HOME\"] = f\"/content/{spark_version}-bin-hadoop2.7\"\n",
        "\n",
        "# Start a SparkSession\n",
        "import findspark\n",
        "findspark.init()"
      ]
    },
    {
      "cell_type": "code",
      "source": [
        "!wget https://jdbc.postgresql.org/download/postgresql-42.2.9.jar"
      ],
      "metadata": {
        "id": "9jwpuEF6VS3l",
        "colab": {
          "base_uri": "https://localhost:8080/"
        },
        "outputId": "0d88c473-e375-4579-d427-d74f6c787268"
      },
      "execution_count": null,
      "outputs": [
        {
          "output_type": "stream",
          "name": "stdout",
          "text": [
            "--2021-12-21 07:38:35--  https://jdbc.postgresql.org/download/postgresql-42.2.9.jar\n",
            "Resolving jdbc.postgresql.org (jdbc.postgresql.org)... 72.32.157.228, 2001:4800:3e1:1::228\n",
            "Connecting to jdbc.postgresql.org (jdbc.postgresql.org)|72.32.157.228|:443... connected.\n",
            "HTTP request sent, awaiting response... 200 OK\n",
            "Length: 914037 (893K) [application/java-archive]\n",
            "Saving to: ‘postgresql-42.2.9.jar’\n",
            "\n",
            "postgresql-42.2.9.j 100%[===================>] 892.61K  --.-KB/s    in 0.1s    \n",
            "\n",
            "2021-12-21 07:38:35 (6.01 MB/s) - ‘postgresql-42.2.9.jar’ saved [914037/914037]\n",
            "\n"
          ]
        }
      ]
    },
    {
      "cell_type": "code",
      "source": [
        "# Start Spark session\n",
        "from pyspark.sql import SparkSession\n",
        "spark = SparkSession.builder.appName(\"BigData_Amazon_Reviews\").config(\"spark.driver.extraClassPath\",\"/content/postgresql-42.2.9.jar\").getOrCreate()"
      ],
      "metadata": {
        "id": "BDCXwXe3ClOU"
      },
      "execution_count": null,
      "outputs": []
    },
    {
      "cell_type": "code",
      "source": [
        "# Read in data from S3 Buckets\n",
        "from pyspark import SparkFiles\n",
        "\n",
        "amazon_url = \"https://s3.amazonaws.com/amazon-reviews-pds/tsv/\"\n",
        "\n",
        "# Dataset 1 --> Video Games\n",
        "dataset1 = \"amazon_reviews_us_Video_Games_v1_00.tsv.gz\"\n",
        "\n",
        "amazon_url1 = amazon_url + dataset1\n",
        "spark.sparkContext.addFile(amazon_url1)\n",
        "video_games_df = spark.read.csv(SparkFiles.get(dataset1), inferSchema=True, sep=\"\\t\", header=True)\n",
        "\n",
        "# Show DataFrame\n",
        "video_games_df.show(truncate=False)"
      ],
      "metadata": {
        "colab": {
          "base_uri": "https://localhost:8080/"
        },
        "id": "V9lWBbAgCoyj",
        "outputId": "37272e45-0983-4526-bfca-bbd2388fff7c"
      },
      "execution_count": null,
      "outputs": [
        {
          "output_type": "stream",
          "name": "stdout",
          "text": [
            "+-----------+-----------+--------------+----------+--------------+---------------------------------------------------------------------------------------------------------------------------+----------------+-----------+-------------+-----------+----+-----------------+--------------------------------------------------------------------------+---------------------------------------------------------------------------------------------------------------------------------------------------------------------------------------------------------------------------------------------------------------------------------------------------------------------------------------------------+-----------+\n",
            "|marketplace|customer_id|review_id     |product_id|product_parent|product_title                                                                                                              |product_category|star_rating|helpful_votes|total_votes|vine|verified_purchase|review_headline                                                           |review_body                                                                                                                                                                                                                                                                                                                                        |review_date|\n",
            "+-----------+-----------+--------------+----------+--------------+---------------------------------------------------------------------------------------------------------------------------+----------------+-----------+-------------+-----------+----+-----------------+--------------------------------------------------------------------------+---------------------------------------------------------------------------------------------------------------------------------------------------------------------------------------------------------------------------------------------------------------------------------------------------------------------------------------------------+-----------+\n",
            "|US         |12039526   |RTIS3L2M1F5SM |B001CXYMFS|737716809     |Thrustmaster T-Flight Hotas X Flight Stick                                                                                 |Video Games     |5          |0            |0          |N   |Y                |an amazing joystick. I especially love that you can twist ...             |Used this for Elite Dangerous on my mac, an amazing joystick. I especially love that you can twist the stick for different movement bindings as well as move it in the normal way.                                                                                                                                                                 |2015-08-31 |\n",
            "|US         |9636577    |R1ZV7R40OLHKD |B00M920ND6|569686175     |Tonsee 6 buttons Wireless Optical Silent Gaming Mouse For PC Laptop Gamer Red                                              |Video Games     |5          |0            |0          |N   |Y                |Definitely a silent mouse... Not a single click was heard                 |Loved it,  I didn't even realise it was a gaming mouse,  I typed in &#34;silent mouse&#34; and selected this one. It is perfect and looks pretty cool as well. Now my boyfriend's gaming is wonderfully comfortably silent :) . Think I might just get one for myself.                                                                             |2015-08-31 |\n",
            "|US         |2331478    |R3BH071QLH8QMC|B0029CSOD2|98937668      |Hidden Mysteries: Titanic Secrets of the Fateful Voyage                                                                    |Video Games     |1          |0            |1          |N   |Y                |One Star                                                                  |poor quality work and not as it is advertised.                                                                                                                                                                                                                                                                                                     |2015-08-31 |\n",
            "|US         |52495923   |R127K9NTSXA2YH|B00GOOSV98|23143350      |GelTabz Performance Thumb Grips - PlayStation 4 and PlayStation 3                                                          |Video Games     |3          |0            |0          |N   |Y                |good, but could be bettee                                                 |nice, but tend to slip away from stick in intense (hard pressed) gaming sessions.                                                                                                                                                                                                                                                                  |2015-08-31 |\n",
            "|US         |14533949   |R32ZWUXDJPW27Q|B00Y074JOM|821342511     |Zero Suit Samus amiibo - Japan Import (Super Smash Bros Series)                                                            |Video Games     |4          |0            |0          |N   |Y                |Great but flawed.                                                         |Great amiibo, great for collecting. Quality material to be desired, since its not perfect.                                                                                                                                                                                                                                                         |2015-08-31 |\n",
            "|US         |2377552    |R3AQQ4YUKJWBA6|B002UBI6W6|328764615     |Psyclone Recharge Station for Nintendo Wii 4 Port With 4 Batteries                                                         |Video Games     |1          |0            |0          |N   |Y                |One Star                                                                  |The remote constantly have to be adjusted in order to charge.                                                                                                                                                                                                                                                                                      |2015-08-31 |\n",
            "|US         |17521011   |R2F0POU5K6F73F|B008XHCLFO|24234603      |Protection for your 3DS XL                                                                                                 |Video Games     |5          |0            |0          |N   |Y                |A Must                                                                    |I have a 2012-2013 XL and this is very durable, comfortable, and really cool looking.                                                                                                                                                                                                                                                              |2015-08-31 |\n",
            "|US         |19676307   |R3VNR804HYSMR6|B00BRA9R6A|682267517     |Nerf 3DS XL Armor                                                                                                          |Video Games     |5          |0            |0          |N   |Y                |Five Stars                                                                |Perfect, kids loved them. Great protection for their technology.                                                                                                                                                                                                                                                                                   |2015-08-31 |\n",
            "|US         |224068     |R3GZTM72WA2QH |B009EPWJLA|435241890     |One Piece: Pirate Warriors / Kaizoku Musou PS3 Game (Japanese Voice & English subtitle) [Region Free International Edition]|Video Games     |5          |0            |0          |N   |Y                |Five Stars                                                                |Excelent                                                                                                                                                                                                                                                                                                                                           |2015-08-31 |\n",
            "|US         |48467989   |RNQOY62705W1K |B0000AV7GB|256572651     |Playstation 2 Dance Pad Revolution 2                                                                                       |Video Games     |4          |0            |0          |N   |Y                |Four Stars                                                                |Slippery but expected                                                                                                                                                                                                                                                                                                                              |2015-08-31 |\n",
            "|US         |106569     |R1VTIA3JTYBY02|B00008KTNN|384411423     |Metal Arms: Glitch In The System                                                                                           |Video Games     |5          |0            |0          |N   |N                |Five Stars                                                                |Love the game. Seller hasn't released Amy info on my shipping  progress                                                                                                                                                                                                                                                                            |2015-08-31 |\n",
            "|US         |48269642   |R29DOU8791QZL8|B000A3IA0Y|472622859     |72 Pin Connector for NES 8 BIT Nintendo System (Bulk Packaging)                                                            |Video Games     |1          |0            |0          |N   |Y                |Game will get stuck                                                       |Does not fit properly. The cartridge will get stuck and will be a pain in the butt to get out! I don't think this company actually test this because if they did they would notice that the cartridge will be hard as hell to remove! My advice would be to try and refurbish the old 72 pin if possible. Don't waste your money like I did.       |2015-08-31 |\n",
            "|US         |52738710   |R15DUT1VIJ9RJZ|B0053BQN34|577628462     |uDraw Gametablet with uDraw Studio                                                                                         |Video Games     |2          |0            |0          |N   |Y                |We have tried it with kids ages 4-7 and none of them have had fun doing it|This was way too hard for my kids. We have tried it with kids ages 4-7 and none of them have had fun doing it. It's a little complicated and I pretty much had to do it the whole time for them. They would only play with it for a few minutes and then be done. It looked fun so we were disappointed that it wasn't easy enough for them to use.|2015-08-31 |\n",
            "|US         |10556786   |R3IMF2MQ3OU9ZM|B002I0HIMI|988218515     |NBA 2K12(Covers May Vary)                                                                                                  |Video Games     |4          |0            |0          |N   |Y                |Four Stars                                                                |Works great good game arrived quickly                                                                                                                                                                                                                                                                                                              |2015-08-31 |\n",
            "|US         |2963837    |R23H79DHOZTYAU|B0081EH12M|770100932     |New Trigger Grips Black Compatible With PSVita Playstation Vita                                                            |Video Games     |1          |1            |1          |N   |Y                |Now i have to buy a better one. Sorry guys but its the truth              |It did not fit the device well... Now i have to buy a better one. Sorry guys but its the truth.                                                                                                                                                                                                                                                    |2015-08-31 |\n",
            "|US         |23092109   |RIV24EQAIXA4O |B005FMLZQQ|24647669      |Xbox 360 Media Remote                                                                                                      |Video Games     |5          |0            |0          |N   |Y                |Five Stars                                                                |perfect lightweight and works flawless with Xbox 360                                                                                                                                                                                                                                                                                               |2015-08-31 |\n",
            "|US         |23091728   |R3UCNGYDVN24YB|B002BSA388|33706205      |Super Mario Galaxy 2                                                                                                       |Video Games     |5          |0            |0          |N   |Y                |Five Stars                                                                |great                                                                                                                                                                                                                                                                                                                                              |2015-08-31 |\n",
            "|US         |10712640   |RUL4H4XTTN2DY |B00BUSLSAC|829667834     |Nintendo 3DS XL - Yellow Pikachu                                                                                           |Video Games     |5          |0            |0          |N   |Y                |Five Stars                                                                |Works beautifully and looks great. I love playing the slew of great rpgs for it.                                                                                                                                                                                                                                                                   |2015-08-31 |\n",
            "|US         |17455376   |R20JF7Z4DHTNX5|B00KWF38AW|110680188     |Captain Toad:  Treasure Tracker                                                                                            |Video Games     |5          |0            |0          |N   |Y                |Five Stars                                                                |Kids loved the game.  They are 9 and 11.                                                                                                                                                                                                                                                                                                           |2015-08-31 |\n",
            "|US         |14754850   |R2T1AJ5MFI2260|B00BRQJYA8|616463426     |Lego Batman 2: DC Super Heroes                                                                                             |Video Games     |4          |0            |0          |N   |Y                |Four Stars                                                                |Goodngame                                                                                                                                                                                                                                                                                                                                          |2015-08-31 |\n",
            "+-----------+-----------+--------------+----------+--------------+---------------------------------------------------------------------------------------------------------------------------+----------------+-----------+-------------+-----------+----+-----------------+--------------------------------------------------------------------------+---------------------------------------------------------------------------------------------------------------------------------------------------------------------------------------------------------------------------------------------------------------------------------------------------------------------------------------------------+-----------+\n",
            "only showing top 20 rows\n",
            "\n"
          ]
        }
      ]
    },
    {
      "cell_type": "code",
      "source": [
        ""
      ],
      "metadata": {
        "id": "1-coprN3S0Q3"
      },
      "execution_count": null,
      "outputs": []
    },
    {
      "cell_type": "code",
      "source": [
        "# Count the number of records(rows) in the complete dataset.\n",
        "print('Number of records in Video games dataset:', video_games_df.count())"
      ],
      "metadata": {
        "colab": {
          "base_uri": "https://localhost:8080/"
        },
        "id": "f8AM46g82iNQ",
        "outputId": "cfb11e69-c170-4ba1-c5a1-b712feccb7dc"
      },
      "execution_count": null,
      "outputs": [
        {
          "output_type": "stream",
          "name": "stdout",
          "text": [
            "Number of records in Video games dataset: 1785997\n"
          ]
        }
      ]
    },
    {
      "cell_type": "code",
      "source": [
        "# Transform the dataset to fit the table review_id_table\n",
        "from pyspark.sql.types import DateType\n",
        "\n",
        "review_id_df = video_games_df.select('review_id', 'customer_id', 'product_id', 'product_parent', 'review_date')\n",
        "review_id_table = review_id_df.withColumn(\"review_date\", review_id_df[\"review_date\"].cast(DateType()))\n",
        "\n",
        "print('Number of rows in review_id_table:' + str(review_id_table.count()))\n",
        "review_id_table.orderBy('review_id').show(truncate=False)"
      ],
      "metadata": {
        "colab": {
          "base_uri": "https://localhost:8080/"
        },
        "id": "V5ftVkNm33gx",
        "outputId": "ad2e5e78-24e0-4f11-b73a-d49d1fe6b05c"
      },
      "execution_count": null,
      "outputs": [
        {
          "output_type": "stream",
          "name": "stdout",
          "text": [
            "Number of rows in review_id_table:1785997\n",
            "+--------------+-----------+----------+--------------+-----------+\n",
            "|review_id     |customer_id|product_id|product_parent|review_date|\n",
            "+--------------+-----------+----------+--------------+-----------+\n",
            "|R10003I619LWL0|4317219    |B001REZLY8|816407837     |2015-01-10 |\n",
            "|R100078OO83YQB|31850030   |B0016HM45K|670563392     |2008-12-29 |\n",
            "|R10009XH2FY9Q0|51098385   |B00000IOQV|845394808     |1999-11-28 |\n",
            "|R1000EJULTHQ16|12211018   |B002I0H7K6|22716581      |2012-02-05 |\n",
            "|R1000GECIM9DZG|10430321   |B006SVUQNQ|523228689     |2014-10-06 |\n",
            "|R1000ID99V4TKO|4971033    |B00KY1HZ80|886096191     |2015-03-18 |\n",
            "|R1000QK6J2WSFR|15127738   |B0018K77RA|139949924     |2011-01-10 |\n",
            "|R1000RERQGPWNO|42546325   |B002S5NKIY|469043465     |2010-02-17 |\n",
            "|R1000U9GM6NPGS|13626862   |B00DUJKIO6|518264079     |2014-01-23 |\n",
            "|R1000WZPINB01L|43132564   |B0041HROGG|166509481     |2012-11-07 |\n",
            "|R1000XAVJH7WUV|25431956   |B000087L4G|947390207     |2005-06-09 |\n",
            "|R1000YD5XB0Q9H|45490347   |B0093FO2TS|855418767     |2015-02-26 |\n",
            "|R1000YRB7RKBIC|11092761   |B0088MVQ6Y|930782716     |2014-01-02 |\n",
            "|R10010D6B1QM7U|26197704   |B004HX5OFW|8155204       |2013-03-28 |\n",
            "|R10010Z0JHJ7RN|43335519   |B000FII8KQ|613059868     |2014-09-27 |\n",
            "|R10012JUYG241F|30761258   |B002I0J9M0|736478420     |2015-07-08 |\n",
            "|R10018ETU2IIN1|12155461   |B002I0JGDM|118325617     |2010-12-04 |\n",
            "|R10019Y2VJN46B|13404901   |B000R3BNDI|318965716     |2011-01-17 |\n",
            "|R1001BCVZMY509|35710493   |B004OQOTKI|543384900     |2013-03-07 |\n",
            "|R1001G0I0BN8VC|33245334   |B000UXSVIU|623433988     |2011-07-28 |\n",
            "+--------------+-----------+----------+--------------+-----------+\n",
            "only showing top 20 rows\n",
            "\n"
          ]
        }
      ]
    },
    {
      "cell_type": "code",
      "source": [
        "# 'review_id_df' Column list and its data types\n",
        "review_id_table.printSchema()"
      ],
      "metadata": {
        "colab": {
          "base_uri": "https://localhost:8080/"
        },
        "id": "DZnJK7AP4trW",
        "outputId": "583530fd-f528-4ac9-eb64-6c3d8dff74e8"
      },
      "execution_count": null,
      "outputs": [
        {
          "output_type": "stream",
          "name": "stdout",
          "text": [
            "root\n",
            " |-- review_id: string (nullable = true)\n",
            " |-- customer_id: integer (nullable = true)\n",
            " |-- product_id: string (nullable = true)\n",
            " |-- product_parent: integer (nullable = true)\n",
            " |-- review_date: date (nullable = true)\n",
            "\n"
          ]
        }
      ]
    },
    {
      "cell_type": "code",
      "source": [
        "# Transform the dataset to fit the table 'products' and table count\n",
        "products_df = video_games_df.select('product_id', 'product_title').distinct()\n",
        "print(\"Distinct count of products:\", products_df.count())\n",
        "products_df.orderBy('product_id').show(truncate=False)"
      ],
      "metadata": {
        "colab": {
          "base_uri": "https://localhost:8080/"
        },
        "id": "E0wCfAnP41ia",
        "outputId": "78393f6a-641d-4298-d92b-64d10a268614"
      },
      "execution_count": null,
      "outputs": [
        {
          "output_type": "stream",
          "name": "stdout",
          "text": [
            "Distinct count of products: 65792\n",
            "+----------+----------------------------------------------------------------------------------------------------------------------------------------------------------------------------+\n",
            "|product_id|product_title                                                                                                                                                               |\n",
            "+----------+----------------------------------------------------------------------------------------------------------------------------------------------------------------------------+\n",
            "|0000118532|Bethesda The Evil Within Xbox One                                                                                                                                           |\n",
            "|006056038X|Bitter Truth                                                                                                                                                                |\n",
            "|006073132X|Freakonomics: A Rogue Economist Explores the Hidden Side of Everything                                                                                                      |\n",
            "|007876355X|Skylanders Giants Gnarly Tree Rex (in retail packaging)                                                                                                                     |\n",
            "|0078764343|Medal of Honor: Warfighter - Includes Battlefield 4 Beta - Limited Edition                                                                                                  |\n",
            "|0133617300|Disney Infinity Figure - Woody                                                                                                                                              |\n",
            "|0182116247|LCD Screen Display Replacement Part for Nintendo 2DS (Top and Bottom / Upper and Lower) by TekBotic®                                                                        |\n",
            "|0182116255|2-Pack Black Plastic Touch Screen Stylus Pen Replacement for Nintendo 2DS by TekBotic®                                                                                      |\n",
            "|0182116263|3D Analog Joystick Sensor Switch by TekBotic® - Xbox One                                                                                                                    |\n",
            "|0226739368|Into the Cool: Energy Flow, Thermodynamics, and Life                                                                                                                        |\n",
            "|0324411812|Xbox 360 MAS STICK                                                                                                                                                          |\n",
            "|0385510365|Don't Get Too Comfortable: The Indignities of Coach Class, The Torments of Low Thread Count, The Never- Ending Quest for Artisanal Olive Oil, and Other First World Problems|\n",
            "|0439026008|Oregon Trail 5th Edition                                                                                                                                                    |\n",
            "|043933702X|Need for Speed Porsche Unleashed                                                                                                                                            |\n",
            "|0439339987|Freddi Fish and the Case of The Missing Kelp Seeds                                                                                                                          |\n",
            "|0439394422|school house rock america rock                                                                                                                                              |\n",
            "|0439573947|Need for Speed Racing Pack                                                                                                                                                  |\n",
            "|0439574447|Thomas & Friends - Building the New Line                                                                                                                                    |\n",
            "|0439591295|Scooby-do Mystery Adventures                                                                                                                                                |\n",
            "|0439591511|Zapper- One Wicked Cricket!                                                                                                                                                 |\n",
            "+----------+----------------------------------------------------------------------------------------------------------------------------------------------------------------------------+\n",
            "only showing top 20 rows\n",
            "\n"
          ]
        }
      ]
    },
    {
      "cell_type": "code",
      "source": [
        "# 'products_df' Column list and its data types\n",
        "products_df.printSchema()"
      ],
      "metadata": {
        "colab": {
          "base_uri": "https://localhost:8080/"
        },
        "id": "TJ01lXGzV_dJ",
        "outputId": "06d658d0-b383-4895-c74b-9d4f48e5282a"
      },
      "execution_count": null,
      "outputs": [
        {
          "output_type": "stream",
          "name": "stdout",
          "text": [
            "root\n",
            " |-- product_id: string (nullable = true)\n",
            " |-- product_title: string (nullable = true)\n",
            "\n"
          ]
        }
      ]
    },
    {
      "cell_type": "code",
      "source": [
        "# Transform the dataset to fit the 'customer' table and print the count of records\n",
        "customersCounts = video_games_df.select('customer_id').groupBy('customer_id').count()\n",
        "customers_df = customersCounts.withColumnRenamed('count', 'customer_count')\n",
        "\n",
        "print('Number of records in customers: '+ str(customers_df.count()))\n",
        "customers_df.orderBy('customer_id').show(truncate=False)"
      ],
      "metadata": {
        "colab": {
          "base_uri": "https://localhost:8080/"
        },
        "id": "kB7QVvBS7a-N",
        "outputId": "7cd94eaf-2273-45ed-b598-b8857b80478d"
      },
      "execution_count": null,
      "outputs": [
        {
          "output_type": "stream",
          "name": "stdout",
          "text": [
            "Number of records in customers: 1045733\n",
            "+-----------+--------------+\n",
            "|customer_id|customer_count|\n",
            "+-----------+--------------+\n",
            "|10018      |4             |\n",
            "|10114      |2             |\n",
            "|10146      |1             |\n",
            "|10164      |1             |\n",
            "|10192      |1             |\n",
            "|10206      |8             |\n",
            "|10267      |1             |\n",
            "|10323      |1             |\n",
            "|10382      |1             |\n",
            "|10453      |1             |\n",
            "|10467      |1             |\n",
            "|10481      |1             |\n",
            "|10605      |1             |\n",
            "|10615      |1             |\n",
            "|10664      |1             |\n",
            "|10670      |1             |\n",
            "|10685      |1             |\n",
            "|10704      |1             |\n",
            "|10776      |1             |\n",
            "|10866      |1             |\n",
            "+-----------+--------------+\n",
            "only showing top 20 rows\n",
            "\n"
          ]
        }
      ]
    },
    {
      "cell_type": "code",
      "source": [
        "# 'customers' Table column list and its data types\n",
        "customers_df.printSchema()"
      ],
      "metadata": {
        "colab": {
          "base_uri": "https://localhost:8080/"
        },
        "id": "lUeheALZ7haL",
        "outputId": "5a489bf9-1fd1-4e95-836e-597db301b59c"
      },
      "execution_count": null,
      "outputs": [
        {
          "output_type": "stream",
          "name": "stdout",
          "text": [
            "root\n",
            " |-- customer_id: integer (nullable = true)\n",
            " |-- customer_count: long (nullable = false)\n",
            "\n"
          ]
        }
      ]
    },
    {
      "cell_type": "code",
      "source": [
        "# Transform the dataset to fit 'vine_table'\n",
        "vine_table= video_games_df.select('review_id', 'star_rating', 'helpful_votes', 'total_votes', 'vine')\n",
        "print('Count of records in Vine dataset:' + str(vine_table.count()))\n",
        "print('Count of records in Vine dataset:' + str(vine_table.distinct().count()))\n",
        "vine_table.orderBy('review_id').show(truncate=False)"
      ],
      "metadata": {
        "colab": {
          "base_uri": "https://localhost:8080/"
        },
        "id": "wLPvs24m1DEu",
        "outputId": "e38c6094-030d-4c22-c0de-1da75c8caf0d"
      },
      "execution_count": null,
      "outputs": [
        {
          "output_type": "stream",
          "name": "stdout",
          "text": [
            "Count of records in Vine dataset:1785997\n",
            "Count of records in Vine dataset:1785997\n",
            "+--------------+-----------+-------------+-----------+----+\n",
            "|review_id     |star_rating|helpful_votes|total_votes|vine|\n",
            "+--------------+-----------+-------------+-----------+----+\n",
            "|R10003I619LWL0|5          |1            |1          |N   |\n",
            "|R100078OO83YQB|5          |0            |0          |N   |\n",
            "|R10009XH2FY9Q0|5          |4            |4          |N   |\n",
            "|R1000EJULTHQ16|5          |0            |0          |N   |\n",
            "|R1000GECIM9DZG|5          |0            |0          |N   |\n",
            "|R1000ID99V4TKO|5          |0            |0          |N   |\n",
            "|R1000QK6J2WSFR|5          |0            |0          |N   |\n",
            "|R1000RERQGPWNO|4          |0            |0          |N   |\n",
            "|R1000U9GM6NPGS|5          |0            |0          |N   |\n",
            "|R1000WZPINB01L|4          |0            |0          |N   |\n",
            "|R1000XAVJH7WUV|3          |6            |9          |N   |\n",
            "|R1000YD5XB0Q9H|3          |0            |1          |N   |\n",
            "|R1000YRB7RKBIC|1          |1            |3          |N   |\n",
            "|R10010D6B1QM7U|1          |0            |0          |N   |\n",
            "|R10010Z0JHJ7RN|5          |0            |0          |N   |\n",
            "|R10012JUYG241F|5          |0            |0          |N   |\n",
            "|R10018ETU2IIN1|2          |4            |5          |N   |\n",
            "|R10019Y2VJN46B|5          |0            |0          |N   |\n",
            "|R1001BCVZMY509|5          |1            |1          |N   |\n",
            "|R1001G0I0BN8VC|2          |0            |0          |N   |\n",
            "+--------------+-----------+-------------+-----------+----+\n",
            "only showing top 20 rows\n",
            "\n"
          ]
        }
      ]
    },
    {
      "cell_type": "code",
      "source": [
        "# 'vine_table' column list and its data types\n",
        "vine_table.printSchema()"
      ],
      "metadata": {
        "colab": {
          "base_uri": "https://localhost:8080/"
        },
        "id": "NonJExLb1Nah",
        "outputId": "9e1bccad-f055-4772-e3a7-ef7bfc497e25"
      },
      "execution_count": null,
      "outputs": [
        {
          "output_type": "stream",
          "name": "stdout",
          "text": [
            "root\n",
            " |-- review_id: string (nullable = true)\n",
            " |-- star_rating: integer (nullable = true)\n",
            " |-- helpful_votes: integer (nullable = true)\n",
            " |-- total_votes: integer (nullable = true)\n",
            " |-- vine: string (nullable = true)\n",
            "\n"
          ]
        }
      ]
    },
    {
      "cell_type": "code",
      "source": [
        "#Create the Database properties\n",
        "\n",
        "mode = \"append\"\n",
        "db_url = \"jdbc:postgresql://<AWS RDS endpoint>:5432/postgres\"\n",
        "\n",
        "config = {\n",
        "    \"user\" : \"<username>\", \n",
        "    \"password\" : \"<password>\",\n",
        "    \"driver\" : \"org.postgresql.Driver\"\n",
        "}"
      ],
      "metadata": {
        "id": "_7kFjrEsqP4U"
      },
      "execution_count": null,
      "outputs": []
    },
    {
      "cell_type": "code",
      "source": [
        "# Load 'review_id_df' dataframe into 'review_id_table\n",
        "\n",
        "review_id_df.write.jdbc(url=db_url, table='review_id_table', mode=mode, properties=config)"
      ],
      "metadata": {
        "id": "lyR2FWjiuNFP"
      },
      "execution_count": null,
      "outputs": []
    },
    {
      "cell_type": "code",
      "source": [
        "# Load dataframe 'products_df' into RDS Table 'products'\n",
        "\n",
        "products_df.write.jdbc(url=db_url, table='products', mode=mode, properties=config)"
      ],
      "metadata": {
        "id": "PyRC3aT4uT3f"
      },
      "execution_count": null,
      "outputs": []
    },
    {
      "cell_type": "code",
      "source": [
        "# Load dataframe 'customers_df' into RDS Table 'customers'\n",
        "\n",
        "customers_df.write.jdbc(url=db_url, table='customers', mode=mode, properties=config)"
      ],
      "metadata": {
        "id": "2Qd1ATiX74QI"
      },
      "execution_count": null,
      "outputs": []
    },
    {
      "cell_type": "code",
      "source": [
        "# Load dataframe 'vine_table' into RDS Table 'vine_table'\n",
        "\n",
        "vine_table.write.jdbc(url=db_url, table='vine_table', mode=mode, properties=config)"
      ],
      "metadata": {
        "id": "0g3dizUS7zXG"
      },
      "execution_count": null,
      "outputs": []
    }
  ]
}