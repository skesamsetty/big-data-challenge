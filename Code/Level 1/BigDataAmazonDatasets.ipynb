{
  "nbformat": 4,
  "nbformat_minor": 0,
  "metadata": {
    "colab": {
      "name": "BigDataAmazonDatasets.ipynb",
      "provenance": [],
      "collapsed_sections": []
    },
    "kernelspec": {
      "name": "python3",
      "display_name": "Python 3"
    },
    "language_info": {
      "name": "python"
    }
  },
  "cells": [
    {
      "cell_type": "code",
      "execution_count": 1,
      "metadata": {
        "colab": {
          "base_uri": "https://localhost:8080/"
        },
        "id": "pFCos3yeSDhE",
        "outputId": "f13b5965-234a-4560-de64-daded21923ae"
      },
      "outputs": [
        {
          "output_type": "stream",
          "name": "stdout",
          "text": [
            "\r0% [Working]\r            \rIgn:1 https://developer.download.nvidia.com/compute/cuda/repos/ubuntu1804/x86_64  InRelease\n",
            "\r0% [Connecting to archive.ubuntu.com (91.189.88.142)] [Waiting for headers] [Co\r                                                                               \rGet:2 http://security.ubuntu.com/ubuntu bionic-security InRelease [88.7 kB]\n",
            "Get:3 http://ppa.launchpad.net/c2d4u.team/c2d4u4.0+/ubuntu bionic InRelease [15.9 kB]\n",
            "Get:4 https://cloud.r-project.org/bin/linux/ubuntu bionic-cran40/ InRelease [3,626 B]\n",
            "Ign:5 https://developer.download.nvidia.com/compute/machine-learning/repos/ubuntu1804/x86_64  InRelease\n",
            "Get:6 https://developer.download.nvidia.com/compute/cuda/repos/ubuntu1804/x86_64  Release [696 B]\n",
            "Hit:7 https://developer.download.nvidia.com/compute/machine-learning/repos/ubuntu1804/x86_64  Release\n",
            "Hit:8 http://archive.ubuntu.com/ubuntu bionic InRelease\n",
            "Get:9 https://developer.download.nvidia.com/compute/cuda/repos/ubuntu1804/x86_64  Release.gpg [836 B]\n",
            "Get:10 http://archive.ubuntu.com/ubuntu bionic-updates InRelease [88.7 kB]\n",
            "Hit:11 http://ppa.launchpad.net/cran/libgit2/ubuntu bionic InRelease\n",
            "Get:12 https://cloud.r-project.org/bin/linux/ubuntu bionic-cran40/ Packages [73.9 kB]\n",
            "Get:13 http://ppa.launchpad.net/deadsnakes/ppa/ubuntu bionic InRelease [15.9 kB]\n",
            "Get:14 http://archive.ubuntu.com/ubuntu bionic-backports InRelease [74.6 kB]\n",
            "Hit:16 http://ppa.launchpad.net/graphics-drivers/ppa/ubuntu bionic InRelease\n",
            "Get:17 http://ppa.launchpad.net/c2d4u.team/c2d4u4.0+/ubuntu bionic/main Sources [1,821 kB]\n",
            "Get:18 https://developer.download.nvidia.com/compute/cuda/repos/ubuntu1804/x86_64  Packages [833 kB]\n",
            "Get:19 http://ppa.launchpad.net/c2d4u.team/c2d4u4.0+/ubuntu bionic/main amd64 Packages [934 kB]\n",
            "Get:20 http://security.ubuntu.com/ubuntu bionic-security/restricted amd64 Packages [691 kB]\n",
            "Get:21 http://security.ubuntu.com/ubuntu bionic-security/universe amd64 Packages [1,452 kB]\n",
            "Get:22 http://security.ubuntu.com/ubuntu bionic-security/main amd64 Packages [2,461 kB]\n",
            "Get:23 http://archive.ubuntu.com/ubuntu bionic-updates/main amd64 Packages [2,898 kB]\n",
            "Get:24 http://ppa.launchpad.net/deadsnakes/ppa/ubuntu bionic/main amd64 Packages [45.3 kB]\n",
            "Get:25 http://archive.ubuntu.com/ubuntu bionic-updates/universe amd64 Packages [2,230 kB]\n",
            "Get:26 http://archive.ubuntu.com/ubuntu bionic-backports/universe amd64 Packages [12.6 kB]\n",
            "Get:27 http://archive.ubuntu.com/ubuntu bionic-backports/main amd64 Packages [11.6 kB]\n",
            "Fetched 13.8 MB in 7s (2,058 kB/s)\n",
            "Reading package lists... Done\n"
          ]
        }
      ],
      "source": [
        "import os\n",
        "# Find the latest version of spark 3.0  from http://www.apache.org/dist/spark/ and enter as the spark version\n",
        "# For example:\n",
        "spark_version = 'spark-3.0.3'\n",
        "# spark_version = 'spark-3.<enter version>'\n",
        "os.environ['SPARK_VERSION']=spark_version\n",
        "\n",
        "# Install Spark and Java\n",
        "!apt-get update\n",
        "!apt-get install openjdk-8-jdk-headless -qq > /dev/null\n",
        "!wget -q http://www.apache.org/dist/spark/$SPARK_VERSION/$SPARK_VERSION-bin-hadoop2.7.tgz\n",
        "!tar xf $SPARK_VERSION-bin-hadoop2.7.tgz\n",
        "!pip install -q findspark\n",
        "\n",
        "# Set Environment Variables\n",
        "os.environ[\"JAVA_HOME\"] = \"/usr/lib/jvm/java-8-openjdk-amd64\"\n",
        "os.environ[\"SPARK_HOME\"] = f\"/content/{spark_version}-bin-hadoop2.7\"\n",
        "\n",
        "# Start a SparkSession\n",
        "import findspark\n",
        "findspark.init()"
      ]
    },
    {
      "cell_type": "code",
      "source": [
        "!wget https://jdbc.postgresql.org/download/postgresql-42.2.9.jar"
      ],
      "metadata": {
        "colab": {
          "base_uri": "https://localhost:8080/"
        },
        "id": "Lrdt4MAxSSUg",
        "outputId": "bd45b212-3521-4444-fe4e-bccc13613360"
      },
      "execution_count": 2,
      "outputs": [
        {
          "output_type": "stream",
          "name": "stdout",
          "text": [
            "--2021-12-21 09:43:06--  https://jdbc.postgresql.org/download/postgresql-42.2.9.jar\n",
            "Resolving jdbc.postgresql.org (jdbc.postgresql.org)... 72.32.157.228, 2001:4800:3e1:1::228\n",
            "Connecting to jdbc.postgresql.org (jdbc.postgresql.org)|72.32.157.228|:443... connected.\n",
            "HTTP request sent, awaiting response... 200 OK\n",
            "Length: 914037 (893K) [application/java-archive]\n",
            "Saving to: ‘postgresql-42.2.9.jar’\n",
            "\n",
            "postgresql-42.2.9.j 100%[===================>] 892.61K  --.-KB/s    in 0.1s    \n",
            "\n",
            "2021-12-21 09:43:06 (6.02 MB/s) - ‘postgresql-42.2.9.jar’ saved [914037/914037]\n",
            "\n"
          ]
        }
      ]
    },
    {
      "cell_type": "code",
      "source": [
        "# Start Spark session\n",
        "from pyspark.sql import SparkSession\n",
        "spark = SparkSession.builder.appName(\"BigData_Amazon_Reviews\").config(\"spark.driver.extraClassPath\",\"/content/postgresql-42.2.9.jar\").getOrCreate()"
      ],
      "metadata": {
        "id": "BBHT4ndESS2g"
      },
      "execution_count": 3,
      "outputs": []
    },
    {
      "cell_type": "code",
      "source": [
        "# Read in data from S3 Buckets\n",
        "from pyspark import SparkFiles\n",
        "\n",
        "amazon_url = \"https://s3.amazonaws.com/amazon-reviews-pds/tsv/\""
      ],
      "metadata": {
        "id": "-DQaYA3-SUes"
      },
      "execution_count": 4,
      "outputs": []
    },
    {
      "cell_type": "code",
      "source": [
        "# Dataset 1 --> Video Games\n",
        "dataset1 = \"amazon_reviews_us_Video_Games_v1_00.tsv.gz\"\n",
        "\n",
        "amazon_url1 = amazon_url + dataset1\n",
        "spark.sparkContext.addFile(amazon_url1)\n",
        "video_games_df = spark.read.csv(SparkFiles.get(dataset1), inferSchema=True, sep=\"\\t\", header=True)\n",
        "\n",
        "# Show DataFrame\n",
        "video_games_df.show(truncate=False)"
      ],
      "metadata": {
        "colab": {
          "base_uri": "https://localhost:8080/"
        },
        "id": "5IeqHcUsTQHj",
        "outputId": "bc573880-0ebb-4afb-d9ea-7acece358bbe"
      },
      "execution_count": 5,
      "outputs": [
        {
          "output_type": "stream",
          "name": "stdout",
          "text": [
            "+-----------+-----------+--------------+----------+--------------+---------------------------------------------------------------------------------------------------------------------------+----------------+-----------+-------------+-----------+----+-----------------+--------------------------------------------------------------------------+---------------------------------------------------------------------------------------------------------------------------------------------------------------------------------------------------------------------------------------------------------------------------------------------------------------------------------------------------+-----------+\n",
            "|marketplace|customer_id|review_id     |product_id|product_parent|product_title                                                                                                              |product_category|star_rating|helpful_votes|total_votes|vine|verified_purchase|review_headline                                                           |review_body                                                                                                                                                                                                                                                                                                                                        |review_date|\n",
            "+-----------+-----------+--------------+----------+--------------+---------------------------------------------------------------------------------------------------------------------------+----------------+-----------+-------------+-----------+----+-----------------+--------------------------------------------------------------------------+---------------------------------------------------------------------------------------------------------------------------------------------------------------------------------------------------------------------------------------------------------------------------------------------------------------------------------------------------+-----------+\n",
            "|US         |12039526   |RTIS3L2M1F5SM |B001CXYMFS|737716809     |Thrustmaster T-Flight Hotas X Flight Stick                                                                                 |Video Games     |5          |0            |0          |N   |Y                |an amazing joystick. I especially love that you can twist ...             |Used this for Elite Dangerous on my mac, an amazing joystick. I especially love that you can twist the stick for different movement bindings as well as move it in the normal way.                                                                                                                                                                 |2015-08-31 |\n",
            "|US         |9636577    |R1ZV7R40OLHKD |B00M920ND6|569686175     |Tonsee 6 buttons Wireless Optical Silent Gaming Mouse For PC Laptop Gamer Red                                              |Video Games     |5          |0            |0          |N   |Y                |Definitely a silent mouse... Not a single click was heard                 |Loved it,  I didn't even realise it was a gaming mouse,  I typed in &#34;silent mouse&#34; and selected this one. It is perfect and looks pretty cool as well. Now my boyfriend's gaming is wonderfully comfortably silent :) . Think I might just get one for myself.                                                                             |2015-08-31 |\n",
            "|US         |2331478    |R3BH071QLH8QMC|B0029CSOD2|98937668      |Hidden Mysteries: Titanic Secrets of the Fateful Voyage                                                                    |Video Games     |1          |0            |1          |N   |Y                |One Star                                                                  |poor quality work and not as it is advertised.                                                                                                                                                                                                                                                                                                     |2015-08-31 |\n",
            "|US         |52495923   |R127K9NTSXA2YH|B00GOOSV98|23143350      |GelTabz Performance Thumb Grips - PlayStation 4 and PlayStation 3                                                          |Video Games     |3          |0            |0          |N   |Y                |good, but could be bettee                                                 |nice, but tend to slip away from stick in intense (hard pressed) gaming sessions.                                                                                                                                                                                                                                                                  |2015-08-31 |\n",
            "|US         |14533949   |R32ZWUXDJPW27Q|B00Y074JOM|821342511     |Zero Suit Samus amiibo - Japan Import (Super Smash Bros Series)                                                            |Video Games     |4          |0            |0          |N   |Y                |Great but flawed.                                                         |Great amiibo, great for collecting. Quality material to be desired, since its not perfect.                                                                                                                                                                                                                                                         |2015-08-31 |\n",
            "|US         |2377552    |R3AQQ4YUKJWBA6|B002UBI6W6|328764615     |Psyclone Recharge Station for Nintendo Wii 4 Port With 4 Batteries                                                         |Video Games     |1          |0            |0          |N   |Y                |One Star                                                                  |The remote constantly have to be adjusted in order to charge.                                                                                                                                                                                                                                                                                      |2015-08-31 |\n",
            "|US         |17521011   |R2F0POU5K6F73F|B008XHCLFO|24234603      |Protection for your 3DS XL                                                                                                 |Video Games     |5          |0            |0          |N   |Y                |A Must                                                                    |I have a 2012-2013 XL and this is very durable, comfortable, and really cool looking.                                                                                                                                                                                                                                                              |2015-08-31 |\n",
            "|US         |19676307   |R3VNR804HYSMR6|B00BRA9R6A|682267517     |Nerf 3DS XL Armor                                                                                                          |Video Games     |5          |0            |0          |N   |Y                |Five Stars                                                                |Perfect, kids loved them. Great protection for their technology.                                                                                                                                                                                                                                                                                   |2015-08-31 |\n",
            "|US         |224068     |R3GZTM72WA2QH |B009EPWJLA|435241890     |One Piece: Pirate Warriors / Kaizoku Musou PS3 Game (Japanese Voice & English subtitle) [Region Free International Edition]|Video Games     |5          |0            |0          |N   |Y                |Five Stars                                                                |Excelent                                                                                                                                                                                                                                                                                                                                           |2015-08-31 |\n",
            "|US         |48467989   |RNQOY62705W1K |B0000AV7GB|256572651     |Playstation 2 Dance Pad Revolution 2                                                                                       |Video Games     |4          |0            |0          |N   |Y                |Four Stars                                                                |Slippery but expected                                                                                                                                                                                                                                                                                                                              |2015-08-31 |\n",
            "|US         |106569     |R1VTIA3JTYBY02|B00008KTNN|384411423     |Metal Arms: Glitch In The System                                                                                           |Video Games     |5          |0            |0          |N   |N                |Five Stars                                                                |Love the game. Seller hasn't released Amy info on my shipping  progress                                                                                                                                                                                                                                                                            |2015-08-31 |\n",
            "|US         |48269642   |R29DOU8791QZL8|B000A3IA0Y|472622859     |72 Pin Connector for NES 8 BIT Nintendo System (Bulk Packaging)                                                            |Video Games     |1          |0            |0          |N   |Y                |Game will get stuck                                                       |Does not fit properly. The cartridge will get stuck and will be a pain in the butt to get out! I don't think this company actually test this because if they did they would notice that the cartridge will be hard as hell to remove! My advice would be to try and refurbish the old 72 pin if possible. Don't waste your money like I did.       |2015-08-31 |\n",
            "|US         |52738710   |R15DUT1VIJ9RJZ|B0053BQN34|577628462     |uDraw Gametablet with uDraw Studio                                                                                         |Video Games     |2          |0            |0          |N   |Y                |We have tried it with kids ages 4-7 and none of them have had fun doing it|This was way too hard for my kids. We have tried it with kids ages 4-7 and none of them have had fun doing it. It's a little complicated and I pretty much had to do it the whole time for them. They would only play with it for a few minutes and then be done. It looked fun so we were disappointed that it wasn't easy enough for them to use.|2015-08-31 |\n",
            "|US         |10556786   |R3IMF2MQ3OU9ZM|B002I0HIMI|988218515     |NBA 2K12(Covers May Vary)                                                                                                  |Video Games     |4          |0            |0          |N   |Y                |Four Stars                                                                |Works great good game arrived quickly                                                                                                                                                                                                                                                                                                              |2015-08-31 |\n",
            "|US         |2963837    |R23H79DHOZTYAU|B0081EH12M|770100932     |New Trigger Grips Black Compatible With PSVita Playstation Vita                                                            |Video Games     |1          |1            |1          |N   |Y                |Now i have to buy a better one. Sorry guys but its the truth              |It did not fit the device well... Now i have to buy a better one. Sorry guys but its the truth.                                                                                                                                                                                                                                                    |2015-08-31 |\n",
            "|US         |23092109   |RIV24EQAIXA4O |B005FMLZQQ|24647669      |Xbox 360 Media Remote                                                                                                      |Video Games     |5          |0            |0          |N   |Y                |Five Stars                                                                |perfect lightweight and works flawless with Xbox 360                                                                                                                                                                                                                                                                                               |2015-08-31 |\n",
            "|US         |23091728   |R3UCNGYDVN24YB|B002BSA388|33706205      |Super Mario Galaxy 2                                                                                                       |Video Games     |5          |0            |0          |N   |Y                |Five Stars                                                                |great                                                                                                                                                                                                                                                                                                                                              |2015-08-31 |\n",
            "|US         |10712640   |RUL4H4XTTN2DY |B00BUSLSAC|829667834     |Nintendo 3DS XL - Yellow Pikachu                                                                                           |Video Games     |5          |0            |0          |N   |Y                |Five Stars                                                                |Works beautifully and looks great. I love playing the slew of great rpgs for it.                                                                                                                                                                                                                                                                   |2015-08-31 |\n",
            "|US         |17455376   |R20JF7Z4DHTNX5|B00KWF38AW|110680188     |Captain Toad:  Treasure Tracker                                                                                            |Video Games     |5          |0            |0          |N   |Y                |Five Stars                                                                |Kids loved the game.  They are 9 and 11.                                                                                                                                                                                                                                                                                                           |2015-08-31 |\n",
            "|US         |14754850   |R2T1AJ5MFI2260|B00BRQJYA8|616463426     |Lego Batman 2: DC Super Heroes                                                                                             |Video Games     |4          |0            |0          |N   |Y                |Four Stars                                                                |Goodngame                                                                                                                                                                                                                                                                                                                                          |2015-08-31 |\n",
            "+-----------+-----------+--------------+----------+--------------+---------------------------------------------------------------------------------------------------------------------------+----------------+-----------+-------------+-----------+----+-----------------+--------------------------------------------------------------------------+---------------------------------------------------------------------------------------------------------------------------------------------------------------------------------------------------------------------------------------------------------------------------------------------------------------------------------------------------+-----------+\n",
            "only showing top 20 rows\n",
            "\n"
          ]
        }
      ]
    },
    {
      "cell_type": "code",
      "source": [
        "# Dataset 2 --> Digital Music\n",
        "dataset2 = \"amazon_reviews_us_Digital_Music_Purchase_v1_00.tsv.gz\"\n",
        "\n",
        "amazon_url2 = amazon_url + dataset2\n",
        "spark.sparkContext.addFile(amazon_url2)\n",
        "digital_music_df = spark.read.csv(SparkFiles.get(dataset2), inferSchema=True, sep=\"\\t\", header=True)\n",
        "\n",
        "# Show DataFrame\n",
        "digital_music_df.show(truncate=False)"
      ],
      "metadata": {
        "colab": {
          "base_uri": "https://localhost:8080/"
        },
        "id": "ICmz0CXgTV_t",
        "outputId": "ca86de18-6a52-470d-f693-c5e4f64b0b68"
      },
      "execution_count": 6,
      "outputs": [
        {
          "output_type": "stream",
          "name": "stdout",
          "text": [
            "+-----------+-----------+--------------+----------+--------------+----------------------------------------------------------------------------+----------------------+-----------+-------------+-----------+----+-----------------+--------------------------------------------------------+-----------------------------------------------------------------------------------------------------------------------------------------------------------------------------------------------------------------------------------------------------------------------------------+-----------+\n",
            "|marketplace|customer_id|review_id     |product_id|product_parent|product_title                                                               |product_category      |star_rating|helpful_votes|total_votes|vine|verified_purchase|review_headline                                         |review_body                                                                                                                                                                                                                                                                        |review_date|\n",
            "+-----------+-----------+--------------+----------+--------------+----------------------------------------------------------------------------+----------------------+-----------+-------------+-----------+----+-----------------+--------------------------------------------------------+-----------------------------------------------------------------------------------------------------------------------------------------------------------------------------------------------------------------------------------------------------------------------------------+-----------+\n",
            "|US         |10293599   |R14LVB34Z2Z53I|B000YMOQZY|262935067     |Knockin' On Heaven's Door                                                   |Digital_Music_Purchase|5          |0            |0          |N   |Y                |favorites                                               |Great  rendition. Great  song                                                                                                                                                                                                                                                      |2015-08-31 |\n",
            "|US         |6087195    |R2M0R9CWPC82LT|B00ISAEC80|452318038     |Flawless                                                                    |Digital_Music_Purchase|5          |0            |0          |N   |Y                |Five Stars                                              |A good music to listen.                                                                                                                                                                                                                                                            |2015-08-31 |\n",
            "|US         |33717063   |RQNQI2R3BM52A |B00VBB6AVU|675969129     |Scandal of Grace                                                            |Digital_Music_Purchase|4          |0            |0          |N   |Y                |Good                                                    |Not as good as the original but I needed to hear the parts and they were more easily heard in this one.                                                                                                                                                                            |2015-08-31 |\n",
            "|US         |14948020   |RTUIX1135HUAB |B008A5POJO|282925893     |I Surrender (Live)                                                          |Digital_Music_Purchase|5          |0            |0          |N   |Y                |Wonderful lyrics! Makes you feel like praying           |Time to worship and surrender with this song.  Wonderful lyrics! Makes you feel like praying.                                                                                                                                                                                      |2015-08-31 |\n",
            "|US         |21694522   |RE3QSAT8TL010 |B014CW2RN4|109077793     |We Are Young (Jersey Club)                                                  |Digital_Music_Purchase|4          |0            |0          |N   |Y                |Hot remix but took short                                |So this should be longer....but love this song:)                                                                                                                                                                                                                                   |2015-08-31 |\n",
            "|US         |14948020   |R14TN65IY0NUOD|B00DRA3EOY|959245080     |Lord, I Live                                                                |Digital_Music_Purchase|5          |0            |0          |N   |Y                |Five Stars                                              |Clint Brown is an awesome song writer and singer.  I recommend all of his work. Comes from the heart!                                                                                                                                                                              |2015-08-31 |\n",
            "|US         |20031966   |R3LIF8MCNH1ODF|B009G3U0PW|762436916     |I'll Never Be Free                                                          |Digital_Music_Purchase|5          |0            |0          |N   |Y                |\"I'll never be free\" is five stars like most of her work|LaVerne Butler is one of the most underrated jazz singers of our time...&#34;I'll never be free&#34; is five stars like most of her work..just wish she played live in the U.S. more..                                                                                             |2015-08-31 |\n",
            "|US         |12223745   |R33X0DGA4PPQ3L|B013XBYQOS|137980344     |All of the Stars                                                            |Digital_Music_Purchase|5          |3            |3          |N   |N                |long awaited treat!                                     |For some reason I often do not catch the lyrics. However getting the lyrics did me no good. Finally I asked a friend to explain. The sound is as expected. Not my kind of music still I enjoyed it. I buy anything and everything this singer does. and I am just now finding out ?|2015-08-31 |\n",
            "|US         |30231876   |R2DJJP7DQRT1ZW|B003L5H25W|165995375     |Exile On Main Street (Deluxe Edition)                                       |Digital_Music_Purchase|5          |0            |1          |N   |Y                |Five Stars                                              |The Stones at their best.                                                                                                                                                                                                                                                          |2015-08-31 |\n",
            "|US         |51714365   |R2A8XDXW5XOT4H|B00136NVH4|227508666     |Bat Out Of Hell                                                             |Digital_Music_Purchase|5          |0            |0          |N   |Y                |Transcends Time.                                        |Simply the best.                                                                                                                                                                                                                                                                   |2015-08-31 |\n",
            "|US         |37216001   |R3MJK3L7ER61TT|B0030AKPQ6|164096943     |Stronger Than Her Love                                                      |Digital_Music_Purchase|5          |0            |0          |N   |N                |I Love The Flirtations!                                 |A very early hit from a very underrated group that is still performing today.<br /><br />I discovered this group by chance around a month ago and I can't get enough of them.<br /><br />In my heart, they're worth 10 stars!                                                      |2015-08-31 |\n",
            "|US         |49207156   |R38Z7XMCVDR0R5|B014EQE0V0|714368268     |You Hold It All (Live)                                                      |Digital_Music_Purchase|5          |1            |1          |N   |Y                |Five Stars                                              |Inspired by this music, it is a testament to God's grace & power.                                                                                                                                                                                                                  |2015-08-31 |\n",
            "|US         |2472364    |R3FFESBQXPR7S6|B00USW4ZVU|50310906      |Pressure - Single                                                           |Digital_Music_Purchase|4          |0            |0          |N   |Y                |Talented new gospel artist.                             |Great new artist.  Very talented psalmist and writer.  The lyrics are so true to life!                                                                                                                                                                                             |2015-08-31 |\n",
            "|US         |22612468   |R3QO6Z942CKH34|B00ZZDJAX0|162295903     |What Are The Chances?                                                       |Digital_Music_Purchase|5          |1            |1          |N   |Y                |Awesome song                                            |Great song off the new album...probably one of my favorites so far!                                                                                                                                                                                                                |2015-08-31 |\n",
            "|US         |2254795    |R297119MDWMG9P|B014DIWONU|44838453      |Beauty Behind The Madness [Explicit]                                        |Digital_Music_Purchase|5          |0            |0          |N   |Y                |I love every song on the album                          |The weeknd is a musical genious. I love every song on the album... but the one with ed sheer an takes the cake!! Definitely purchase this. He deserves the support                                                                                                                 |2015-08-31 |\n",
            "|US         |12408664   |R7EJRSXIXMLIY |B005DPTQNE|454271984     |It's The Huck-A-Bucks                                                       |Digital_Music_Purchase|5          |0            |0          |N   |Y                |Five Stars                                              |Sounds great!                                                                                                                                                                                                                                                                      |2015-08-31 |\n",
            "|US         |36236254   |R2EBGPZD0B3TSV|B004LI9ATO|519024911     |Two Purple Shadows                                                          |Digital_Music_Purchase|5          |0            |0          |N   |N                |An oldie,,, but interesting song. Vale's ...            |An oldie , , , but interesting song.  Vale's rendition is definitive.                                                                                                                                                                                                              |2015-08-31 |\n",
            "|US         |10456004   |R229VSSFBNB90C|B00984QCM4|647155979     |Consolation                                                                 |Digital_Music_Purchase|5          |0            |0          |N   |Y                |Five Stars                                              |great                                                                                                                                                                                                                                                                              |2015-08-31 |\n",
            "|US         |16822806   |R12YCDYTDBJH3X|B00ZKCAK4O|346522639     |One Man Army [Explicit]                                                     |Digital_Music_Purchase|5          |0            |0          |N   |Y                |One Man Army! Download it                               |Real Sh*t Right Here!!!                                                                                                                                                                                                                                                            |2015-08-31 |\n",
            "|US         |30704319   |R3DEVUNGQ2Y98S|B014GWCW8K|260814213     |Without You (feat. Alexa Diane, David Lee Richeson & Dustin Swan) [Explicit]|Digital_Music_Purchase|5          |0            |0          |N   |Y                |Five Stars                                              |Press Forward!                                                                                                                                                                                                                                                                     |2015-08-31 |\n",
            "+-----------+-----------+--------------+----------+--------------+----------------------------------------------------------------------------+----------------------+-----------+-------------+-----------+----+-----------------+--------------------------------------------------------+-----------------------------------------------------------------------------------------------------------------------------------------------------------------------------------------------------------------------------------------------------------------------------------+-----------+\n",
            "only showing top 20 rows\n",
            "\n"
          ]
        }
      ]
    },
    {
      "cell_type": "code",
      "source": [
        "# Count the number of records(rows) in the datasets.\n",
        "\n",
        "print('Number of records in Video games dataset:', video_games_df.count())\n",
        "\n",
        "print('Number of records in Digital music dataset:', digital_music_df.count())"
      ],
      "metadata": {
        "colab": {
          "base_uri": "https://localhost:8080/"
        },
        "id": "T0HtH5SkTkcU",
        "outputId": "e14d81f1-48e5-45ed-eede-ad7b609ad62a"
      },
      "execution_count": 7,
      "outputs": [
        {
          "output_type": "stream",
          "name": "stdout",
          "text": [
            "Number of records in Video games dataset: 1785997\n",
            "Number of records in Digital music dataset: 1688884\n"
          ]
        }
      ]
    },
    {
      "cell_type": "code",
      "source": [
        "amazon_df = video_games_df.union(digital_music_df)\n",
        "amazon_df.show(truncate=False)"
      ],
      "metadata": {
        "colab": {
          "base_uri": "https://localhost:8080/"
        },
        "id": "Ti1jheeNWFdI",
        "outputId": "d0d5536c-51d0-49b9-db21-d0e7bb2bf14e"
      },
      "execution_count": 8,
      "outputs": [
        {
          "output_type": "stream",
          "name": "stdout",
          "text": [
            "+-----------+-----------+--------------+----------+--------------+---------------------------------------------------------------------------------------------------------------------------+----------------+-----------+-------------+-----------+----+-----------------+--------------------------------------------------------------------------+---------------------------------------------------------------------------------------------------------------------------------------------------------------------------------------------------------------------------------------------------------------------------------------------------------------------------------------------------+-----------+\n",
            "|marketplace|customer_id|review_id     |product_id|product_parent|product_title                                                                                                              |product_category|star_rating|helpful_votes|total_votes|vine|verified_purchase|review_headline                                                           |review_body                                                                                                                                                                                                                                                                                                                                        |review_date|\n",
            "+-----------+-----------+--------------+----------+--------------+---------------------------------------------------------------------------------------------------------------------------+----------------+-----------+-------------+-----------+----+-----------------+--------------------------------------------------------------------------+---------------------------------------------------------------------------------------------------------------------------------------------------------------------------------------------------------------------------------------------------------------------------------------------------------------------------------------------------+-----------+\n",
            "|US         |12039526   |RTIS3L2M1F5SM |B001CXYMFS|737716809     |Thrustmaster T-Flight Hotas X Flight Stick                                                                                 |Video Games     |5          |0            |0          |N   |Y                |an amazing joystick. I especially love that you can twist ...             |Used this for Elite Dangerous on my mac, an amazing joystick. I especially love that you can twist the stick for different movement bindings as well as move it in the normal way.                                                                                                                                                                 |2015-08-31 |\n",
            "|US         |9636577    |R1ZV7R40OLHKD |B00M920ND6|569686175     |Tonsee 6 buttons Wireless Optical Silent Gaming Mouse For PC Laptop Gamer Red                                              |Video Games     |5          |0            |0          |N   |Y                |Definitely a silent mouse... Not a single click was heard                 |Loved it,  I didn't even realise it was a gaming mouse,  I typed in &#34;silent mouse&#34; and selected this one. It is perfect and looks pretty cool as well. Now my boyfriend's gaming is wonderfully comfortably silent :) . Think I might just get one for myself.                                                                             |2015-08-31 |\n",
            "|US         |2331478    |R3BH071QLH8QMC|B0029CSOD2|98937668      |Hidden Mysteries: Titanic Secrets of the Fateful Voyage                                                                    |Video Games     |1          |0            |1          |N   |Y                |One Star                                                                  |poor quality work and not as it is advertised.                                                                                                                                                                                                                                                                                                     |2015-08-31 |\n",
            "|US         |52495923   |R127K9NTSXA2YH|B00GOOSV98|23143350      |GelTabz Performance Thumb Grips - PlayStation 4 and PlayStation 3                                                          |Video Games     |3          |0            |0          |N   |Y                |good, but could be bettee                                                 |nice, but tend to slip away from stick in intense (hard pressed) gaming sessions.                                                                                                                                                                                                                                                                  |2015-08-31 |\n",
            "|US         |14533949   |R32ZWUXDJPW27Q|B00Y074JOM|821342511     |Zero Suit Samus amiibo - Japan Import (Super Smash Bros Series)                                                            |Video Games     |4          |0            |0          |N   |Y                |Great but flawed.                                                         |Great amiibo, great for collecting. Quality material to be desired, since its not perfect.                                                                                                                                                                                                                                                         |2015-08-31 |\n",
            "|US         |2377552    |R3AQQ4YUKJWBA6|B002UBI6W6|328764615     |Psyclone Recharge Station for Nintendo Wii 4 Port With 4 Batteries                                                         |Video Games     |1          |0            |0          |N   |Y                |One Star                                                                  |The remote constantly have to be adjusted in order to charge.                                                                                                                                                                                                                                                                                      |2015-08-31 |\n",
            "|US         |17521011   |R2F0POU5K6F73F|B008XHCLFO|24234603      |Protection for your 3DS XL                                                                                                 |Video Games     |5          |0            |0          |N   |Y                |A Must                                                                    |I have a 2012-2013 XL and this is very durable, comfortable, and really cool looking.                                                                                                                                                                                                                                                              |2015-08-31 |\n",
            "|US         |19676307   |R3VNR804HYSMR6|B00BRA9R6A|682267517     |Nerf 3DS XL Armor                                                                                                          |Video Games     |5          |0            |0          |N   |Y                |Five Stars                                                                |Perfect, kids loved them. Great protection for their technology.                                                                                                                                                                                                                                                                                   |2015-08-31 |\n",
            "|US         |224068     |R3GZTM72WA2QH |B009EPWJLA|435241890     |One Piece: Pirate Warriors / Kaizoku Musou PS3 Game (Japanese Voice & English subtitle) [Region Free International Edition]|Video Games     |5          |0            |0          |N   |Y                |Five Stars                                                                |Excelent                                                                                                                                                                                                                                                                                                                                           |2015-08-31 |\n",
            "|US         |48467989   |RNQOY62705W1K |B0000AV7GB|256572651     |Playstation 2 Dance Pad Revolution 2                                                                                       |Video Games     |4          |0            |0          |N   |Y                |Four Stars                                                                |Slippery but expected                                                                                                                                                                                                                                                                                                                              |2015-08-31 |\n",
            "|US         |106569     |R1VTIA3JTYBY02|B00008KTNN|384411423     |Metal Arms: Glitch In The System                                                                                           |Video Games     |5          |0            |0          |N   |N                |Five Stars                                                                |Love the game. Seller hasn't released Amy info on my shipping  progress                                                                                                                                                                                                                                                                            |2015-08-31 |\n",
            "|US         |48269642   |R29DOU8791QZL8|B000A3IA0Y|472622859     |72 Pin Connector for NES 8 BIT Nintendo System (Bulk Packaging)                                                            |Video Games     |1          |0            |0          |N   |Y                |Game will get stuck                                                       |Does not fit properly. The cartridge will get stuck and will be a pain in the butt to get out! I don't think this company actually test this because if they did they would notice that the cartridge will be hard as hell to remove! My advice would be to try and refurbish the old 72 pin if possible. Don't waste your money like I did.       |2015-08-31 |\n",
            "|US         |52738710   |R15DUT1VIJ9RJZ|B0053BQN34|577628462     |uDraw Gametablet with uDraw Studio                                                                                         |Video Games     |2          |0            |0          |N   |Y                |We have tried it with kids ages 4-7 and none of them have had fun doing it|This was way too hard for my kids. We have tried it with kids ages 4-7 and none of them have had fun doing it. It's a little complicated and I pretty much had to do it the whole time for them. They would only play with it for a few minutes and then be done. It looked fun so we were disappointed that it wasn't easy enough for them to use.|2015-08-31 |\n",
            "|US         |10556786   |R3IMF2MQ3OU9ZM|B002I0HIMI|988218515     |NBA 2K12(Covers May Vary)                                                                                                  |Video Games     |4          |0            |0          |N   |Y                |Four Stars                                                                |Works great good game arrived quickly                                                                                                                                                                                                                                                                                                              |2015-08-31 |\n",
            "|US         |2963837    |R23H79DHOZTYAU|B0081EH12M|770100932     |New Trigger Grips Black Compatible With PSVita Playstation Vita                                                            |Video Games     |1          |1            |1          |N   |Y                |Now i have to buy a better one. Sorry guys but its the truth              |It did not fit the device well... Now i have to buy a better one. Sorry guys but its the truth.                                                                                                                                                                                                                                                    |2015-08-31 |\n",
            "|US         |23092109   |RIV24EQAIXA4O |B005FMLZQQ|24647669      |Xbox 360 Media Remote                                                                                                      |Video Games     |5          |0            |0          |N   |Y                |Five Stars                                                                |perfect lightweight and works flawless with Xbox 360                                                                                                                                                                                                                                                                                               |2015-08-31 |\n",
            "|US         |23091728   |R3UCNGYDVN24YB|B002BSA388|33706205      |Super Mario Galaxy 2                                                                                                       |Video Games     |5          |0            |0          |N   |Y                |Five Stars                                                                |great                                                                                                                                                                                                                                                                                                                                              |2015-08-31 |\n",
            "|US         |10712640   |RUL4H4XTTN2DY |B00BUSLSAC|829667834     |Nintendo 3DS XL - Yellow Pikachu                                                                                           |Video Games     |5          |0            |0          |N   |Y                |Five Stars                                                                |Works beautifully and looks great. I love playing the slew of great rpgs for it.                                                                                                                                                                                                                                                                   |2015-08-31 |\n",
            "|US         |17455376   |R20JF7Z4DHTNX5|B00KWF38AW|110680188     |Captain Toad:  Treasure Tracker                                                                                            |Video Games     |5          |0            |0          |N   |Y                |Five Stars                                                                |Kids loved the game.  They are 9 and 11.                                                                                                                                                                                                                                                                                                           |2015-08-31 |\n",
            "|US         |14754850   |R2T1AJ5MFI2260|B00BRQJYA8|616463426     |Lego Batman 2: DC Super Heroes                                                                                             |Video Games     |4          |0            |0          |N   |Y                |Four Stars                                                                |Goodngame                                                                                                                                                                                                                                                                                                                                          |2015-08-31 |\n",
            "+-----------+-----------+--------------+----------+--------------+---------------------------------------------------------------------------------------------------------------------------+----------------+-----------+-------------+-----------+----+-----------------+--------------------------------------------------------------------------+---------------------------------------------------------------------------------------------------------------------------------------------------------------------------------------------------------------------------------------------------------------------------------------------------------------------------------------------------+-----------+\n",
            "only showing top 20 rows\n",
            "\n"
          ]
        }
      ]
    },
    {
      "cell_type": "code",
      "source": [
        "# Transform the dataset to fit the table review_id_table\n",
        "from pyspark.sql.types import DateType\n",
        "\n",
        "review_id_df = amazon_df.select('review_id', 'customer_id', 'product_id', 'product_parent', 'review_date')\n",
        "\n",
        "review_id_table = review_id_df.withColumn(\"review_date\", review_id_df[\"review_date\"].cast(DateType()))\n",
        "\n",
        "print('Number of rows in review_id_table:' + str(review_id_table.count()))\n",
        "review_id_table.orderBy('review_id').show(truncate=False)"
      ],
      "metadata": {
        "colab": {
          "base_uri": "https://localhost:8080/"
        },
        "id": "DcKobrYcTtzB",
        "outputId": "ffa3015c-6689-460e-d591-9cc7880ed6c1"
      },
      "execution_count": 9,
      "outputs": [
        {
          "output_type": "stream",
          "name": "stdout",
          "text": [
            "Number of rows in review_id_table:3474881\n",
            "+--------------+-----------+----------+--------------+-----------+\n",
            "|review_id     |customer_id|product_id|product_parent|review_date|\n",
            "+--------------+-----------+----------+--------------+-----------+\n",
            "|R100007TERQ36I|20227669   |B002NIWBBI|430027531     |2015-07-22 |\n",
            "|R10001PSW1P9MN|43072842   |B000TEVKF6|584630580     |2012-12-10 |\n",
            "|R10002GHQRXG9Q|33776241   |B00IOMX5L2|501710886     |2014-06-05 |\n",
            "|R10003I619LWL0|4317219    |B001REZLY8|816407837     |2015-01-10 |\n",
            "|R100078OO83YQB|31850030   |B0016HM45K|670563392     |2008-12-29 |\n",
            "|R10008N8QVGXBM|38876196   |B003Y3XPOI|738771843     |2011-08-11 |\n",
            "|R10009MVS1J3KE|16982254   |B00137II62|220306261     |2014-04-19 |\n",
            "|R10009VHWXV2UL|45142846   |B00LQ8IGVK|899670131     |2014-10-04 |\n",
            "|R10009XH2FY9Q0|51098385   |B00000IOQV|845394808     |1999-11-28 |\n",
            "|R1000AG0XB09WV|43615244   |B003DSCGDK|989074968     |2012-11-26 |\n",
            "|R1000EJULTHQ16|12211018   |B002I0H7K6|22716581      |2012-02-05 |\n",
            "|R1000GECIM9DZG|10430321   |B006SVUQNQ|523228689     |2014-10-06 |\n",
            "|R1000ID99V4TKO|4971033    |B00KY1HZ80|886096191     |2015-03-18 |\n",
            "|R1000ITBDIA86G|49162427   |B00RH8A288|774112745     |2015-01-02 |\n",
            "|R1000ITUAN6V4T|45694879   |B00137O9Q0|444308422     |2013-08-13 |\n",
            "|R1000NV6DPD7Y0|18017303   |B000QP4L5Y|258225989     |2014-09-13 |\n",
            "|R1000OD0LQNA9M|26278105   |B00GN594QW|739402550     |2013-11-13 |\n",
            "|R1000QK6J2WSFR|15127738   |B0018K77RA|139949924     |2011-01-10 |\n",
            "|R1000RERQGPWNO|42546325   |B002S5NKIY|469043465     |2010-02-17 |\n",
            "|R1000RLK5WR40Z|13935338   |B00NJT3A5Q|780153659     |2014-12-06 |\n",
            "+--------------+-----------+----------+--------------+-----------+\n",
            "only showing top 20 rows\n",
            "\n"
          ]
        }
      ]
    },
    {
      "cell_type": "code",
      "source": [
        "# 'review_id_df' Column list and its data types\n",
        "review_id_table.printSchema()"
      ],
      "metadata": {
        "colab": {
          "base_uri": "https://localhost:8080/"
        },
        "id": "IkPzlSrKWqHw",
        "outputId": "22f74acc-266a-46e1-844f-c9b618dbe093"
      },
      "execution_count": 10,
      "outputs": [
        {
          "output_type": "stream",
          "name": "stdout",
          "text": [
            "root\n",
            " |-- review_id: string (nullable = true)\n",
            " |-- customer_id: integer (nullable = true)\n",
            " |-- product_id: string (nullable = true)\n",
            " |-- product_parent: integer (nullable = true)\n",
            " |-- review_date: date (nullable = true)\n",
            "\n"
          ]
        }
      ]
    },
    {
      "cell_type": "code",
      "source": [
        "# Transform the dataset to fit the table 'products' and table count\n",
        "products_df = amazon_df.select('product_id', 'product_title').distinct()\n",
        "print(\"Distinct count of products:\", products_df.count())\n",
        "products_df.orderBy('product_id').show(truncate=False)"
      ],
      "metadata": {
        "colab": {
          "base_uri": "https://localhost:8080/"
        },
        "id": "cteePRwqW2w_",
        "outputId": "91b66d14-49b3-44ff-e191-b5fca6eb3dbe"
      },
      "execution_count": 11,
      "outputs": [
        {
          "output_type": "stream",
          "name": "stdout",
          "text": [
            "Distinct count of products: 767340\n",
            "+----------+----------------------------------------------------------------------------------------------------------------------------------------------------------------------------+\n",
            "|product_id|product_title                                                                                                                                                               |\n",
            "+----------+----------------------------------------------------------------------------------------------------------------------------------------------------------------------------+\n",
            "|0000118532|Bethesda The Evil Within Xbox One                                                                                                                                           |\n",
            "|006056038X|Bitter Truth                                                                                                                                                                |\n",
            "|006073132X|Freakonomics: A Rogue Economist Explores the Hidden Side of Everything                                                                                                      |\n",
            "|007876355X|Skylanders Giants Gnarly Tree Rex (in retail packaging)                                                                                                                     |\n",
            "|0078764343|Medal of Honor: Warfighter - Includes Battlefield 4 Beta - Limited Edition                                                                                                  |\n",
            "|0133617300|Disney Infinity Figure - Woody                                                                                                                                              |\n",
            "|0182116247|LCD Screen Display Replacement Part for Nintendo 2DS (Top and Bottom / Upper and Lower) by TekBotic®                                                                        |\n",
            "|0182116255|2-Pack Black Plastic Touch Screen Stylus Pen Replacement for Nintendo 2DS by TekBotic®                                                                                      |\n",
            "|0182116263|3D Analog Joystick Sensor Switch by TekBotic® - Xbox One                                                                                                                    |\n",
            "|0226739368|Into the Cool: Energy Flow, Thermodynamics, and Life                                                                                                                        |\n",
            "|0324411812|Xbox 360 MAS STICK                                                                                                                                                          |\n",
            "|0385510365|Don't Get Too Comfortable: The Indignities of Coach Class, The Torments of Low Thread Count, The Never- Ending Quest for Artisanal Olive Oil, and Other First World Problems|\n",
            "|0439026008|Oregon Trail 5th Edition                                                                                                                                                    |\n",
            "|043933702X|Need for Speed Porsche Unleashed                                                                                                                                            |\n",
            "|0439339987|Freddi Fish and the Case of The Missing Kelp Seeds                                                                                                                          |\n",
            "|0439394422|school house rock america rock                                                                                                                                              |\n",
            "|0439573947|Need for Speed Racing Pack                                                                                                                                                  |\n",
            "|0439574447|Thomas & Friends - Building the New Line                                                                                                                                    |\n",
            "|0439591295|Scooby-do Mystery Adventures                                                                                                                                                |\n",
            "|0439591511|Zapper- One Wicked Cricket!                                                                                                                                                 |\n",
            "+----------+----------------------------------------------------------------------------------------------------------------------------------------------------------------------------+\n",
            "only showing top 20 rows\n",
            "\n"
          ]
        }
      ]
    },
    {
      "cell_type": "code",
      "source": [
        "# 'products_df' Column list and its data types\n",
        "products_df.printSchema()"
      ],
      "metadata": {
        "colab": {
          "base_uri": "https://localhost:8080/"
        },
        "id": "6gQahf-vW7xI",
        "outputId": "a004a75a-3182-4ad8-c515-ec3bf1aa211f"
      },
      "execution_count": 12,
      "outputs": [
        {
          "output_type": "stream",
          "name": "stdout",
          "text": [
            "root\n",
            " |-- product_id: string (nullable = true)\n",
            " |-- product_title: string (nullable = true)\n",
            "\n"
          ]
        }
      ]
    },
    {
      "cell_type": "code",
      "source": [
        "# Transform the dataset to fit the 'customer' table and print the count of records\n",
        "customersCounts = amazon_df.select('customer_id').groupBy('customer_id').count()\n",
        "customers_df = customersCounts.withColumnRenamed('count', 'customer_count')\n",
        "\n",
        "print('Number of records in customers: '+ str(customers_df.count()))\n",
        "customers_df.orderBy('customer_id').show(truncate=False)"
      ],
      "metadata": {
        "colab": {
          "base_uri": "https://localhost:8080/"
        },
        "id": "lpCsZdfUW-wW",
        "outputId": "20149a3c-c027-48ac-f433-0db1ef89400d"
      },
      "execution_count": 13,
      "outputs": [
        {
          "output_type": "stream",
          "name": "stdout",
          "text": [
            "Number of records in customers: 1782219\n",
            "+-----------+--------------+\n",
            "|customer_id|customer_count|\n",
            "+-----------+--------------+\n",
            "|10018      |4             |\n",
            "|10114      |2             |\n",
            "|10128      |1             |\n",
            "|10145      |1             |\n",
            "|10146      |1             |\n",
            "|10156      |1             |\n",
            "|10164      |1             |\n",
            "|10167      |1             |\n",
            "|10192      |1             |\n",
            "|10206      |8             |\n",
            "|10267      |1             |\n",
            "|10323      |1             |\n",
            "|10348      |1             |\n",
            "|10362      |1             |\n",
            "|10382      |1             |\n",
            "|10408      |1             |\n",
            "|10453      |1             |\n",
            "|10467      |1             |\n",
            "|10468      |1             |\n",
            "|10481      |1             |\n",
            "+-----------+--------------+\n",
            "only showing top 20 rows\n",
            "\n"
          ]
        }
      ]
    },
    {
      "cell_type": "code",
      "source": [
        "# 'customers' Table column list and its data types\n",
        "customers_df.printSchema()"
      ],
      "metadata": {
        "colab": {
          "base_uri": "https://localhost:8080/"
        },
        "id": "Yq1VZXptW-9g",
        "outputId": "b181d084-8c98-4c6a-98e6-76eaa0df85bd"
      },
      "execution_count": 14,
      "outputs": [
        {
          "output_type": "stream",
          "name": "stdout",
          "text": [
            "root\n",
            " |-- customer_id: integer (nullable = true)\n",
            " |-- customer_count: long (nullable = false)\n",
            "\n"
          ]
        }
      ]
    },
    {
      "cell_type": "code",
      "source": [
        "# Transform the dataset to fit 'vine_table'\n",
        "vine_table= amazon_df.select('review_id', 'star_rating', 'helpful_votes', 'total_votes', 'vine')\n",
        "print('Count of records in Vine dataset:' + str(vine_table.count()))\n",
        "print('Count of records in Vine dataset:' + str(vine_table.distinct().count()))\n",
        "vine_table.orderBy('review_id').show(truncate=False)"
      ],
      "metadata": {
        "colab": {
          "base_uri": "https://localhost:8080/"
        },
        "id": "A2vIrIwMXRYj",
        "outputId": "b8e5f2b2-fd9f-475e-fd7e-56c804fa8bbe"
      },
      "execution_count": 15,
      "outputs": [
        {
          "output_type": "stream",
          "name": "stdout",
          "text": [
            "Count of records in Vine dataset:3474881\n",
            "Count of records in Vine dataset:3474881\n",
            "+--------------+-----------+-------------+-----------+----+\n",
            "|review_id     |star_rating|helpful_votes|total_votes|vine|\n",
            "+--------------+-----------+-------------+-----------+----+\n",
            "|R100007TERQ36I|5          |0            |0          |N   |\n",
            "|R10001PSW1P9MN|5          |0            |0          |N   |\n",
            "|R10002GHQRXG9Q|5          |0            |0          |N   |\n",
            "|R10003I619LWL0|5          |1            |1          |N   |\n",
            "|R100078OO83YQB|5          |0            |0          |N   |\n",
            "|R10008N8QVGXBM|5          |0            |0          |N   |\n",
            "|R10009MVS1J3KE|5          |0            |0          |N   |\n",
            "|R10009VHWXV2UL|5          |0            |0          |N   |\n",
            "|R10009XH2FY9Q0|5          |4            |4          |N   |\n",
            "|R1000AG0XB09WV|5          |0            |0          |N   |\n",
            "|R1000EJULTHQ16|5          |0            |0          |N   |\n",
            "|R1000GECIM9DZG|5          |0            |0          |N   |\n",
            "|R1000ID99V4TKO|5          |0            |0          |N   |\n",
            "|R1000ITBDIA86G|5          |0            |0          |N   |\n",
            "|R1000ITUAN6V4T|5          |0            |0          |N   |\n",
            "|R1000NV6DPD7Y0|4          |0            |0          |N   |\n",
            "|R1000OD0LQNA9M|5          |0            |0          |N   |\n",
            "|R1000QK6J2WSFR|5          |0            |0          |N   |\n",
            "|R1000RERQGPWNO|4          |0            |0          |N   |\n",
            "|R1000RLK5WR40Z|5          |0            |0          |N   |\n",
            "+--------------+-----------+-------------+-----------+----+\n",
            "only showing top 20 rows\n",
            "\n"
          ]
        }
      ]
    },
    {
      "cell_type": "code",
      "source": [
        "# 'vine_table' column list and its data types\n",
        "vine_table.printSchema()"
      ],
      "metadata": {
        "colab": {
          "base_uri": "https://localhost:8080/"
        },
        "id": "EwHiqPw3XbQR",
        "outputId": "235d08fd-d2e7-4a66-9cbd-840f967bddd5"
      },
      "execution_count": 16,
      "outputs": [
        {
          "output_type": "stream",
          "name": "stdout",
          "text": [
            "root\n",
            " |-- review_id: string (nullable = true)\n",
            " |-- star_rating: integer (nullable = true)\n",
            " |-- helpful_votes: integer (nullable = true)\n",
            " |-- total_votes: integer (nullable = true)\n",
            " |-- vine: string (nullable = true)\n",
            "\n"
          ]
        }
      ]
    },
    {
      "cell_type": "code",
      "source": [
        "#Create the Database properties\n",
        "\n",
        "mode = \"append\"\n",
        "db_url = \"jdbc:postgresql://<AWS RDS endpoint>:5432/postgres\"\n",
        "\n",
        "config = {\n",
        "    \"user\" : \"<username>\", \n",
        "    \"password\" : \"<password>\",\n",
        "    \"driver\" : \"org.postgresql.Driver\"\n",
        "}"
      ],
      "metadata": {
        "id": "bvBTtA4WXbyD"
      },
      "execution_count": 17,
      "outputs": []
    },
    {
      "cell_type": "code",
      "source": [
        "# Load 'review_id_df' dataframe into 'review_id_table\n",
        "\n",
        "review_id_df.write.jdbc(url=db_url, table='review_id_table', mode=mode, properties=config)"
      ],
      "metadata": {
        "id": "pCR35UUCXeXq"
      },
      "execution_count": 18,
      "outputs": []
    },
    {
      "cell_type": "code",
      "source": [
        "# Load dataframe 'products_df' into RDS Table 'products'\n",
        "\n",
        "products_df.write.jdbc(url=db_url, table='products', mode=mode, properties=config)"
      ],
      "metadata": {
        "id": "6fjq1XSCXhVd"
      },
      "execution_count": 19,
      "outputs": []
    },
    {
      "cell_type": "code",
      "source": [
        "# Load dataframe 'customers_df' into RDS Table 'customers'\n",
        "\n",
        "customers_df.write.jdbc(url=db_url, table='customers', mode=mode, properties=config)"
      ],
      "metadata": {
        "id": "HUqQKUKgXkq2"
      },
      "execution_count": 20,
      "outputs": []
    },
    {
      "cell_type": "code",
      "source": [
        "# Load dataframe 'vine_table' into RDS Table 'vine_table'\n",
        "\n",
        "vine_table.write.jdbc(url=db_url, table='vine_table', mode=mode, properties=config)"
      ],
      "metadata": {
        "id": "B7Lth9FJXnC4"
      },
      "execution_count": 21,
      "outputs": []
    }
  ]
}